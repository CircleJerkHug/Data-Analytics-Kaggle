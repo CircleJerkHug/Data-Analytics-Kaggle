{
 "cells": [
  {
   "cell_type": "code",
   "execution_count": 1,
   "metadata": {},
   "outputs": [
    {
     "name": "stdout",
     "output_type": "stream",
     "text": [
      "['test.csv', 'train.csv', 'gender_submission.csv']\n"
     ]
    }
   ],
   "source": [
    "# This Python 3 environment comes with many helpful analytics libraries installed\n",
    "# It is defined by the kaggle/python docker image: https://github.com/kaggle/docker-python\n",
    "# For example, here's several helpful packages to load in \n",
    "\n",
    "import numpy as np # linear algebra\n",
    "import pandas as pd # data processing, CSV file I/O (e.g. pd.read_csv)\n",
    "from sklearn.model_selection import train_test_split\n",
    "\n",
    "# Input data files are available in the \"../input/\" directory.\n",
    "# For example, running this (by clicking run or pressing Shift+Enter) will list the files in the input directory\n",
    "\n",
    "import os\n",
    "print(os.listdir(\"../input\"))\n",
    "\n",
    "# Any results you write to the current directory are saved as output."
   ]
  },
  {
   "cell_type": "code",
   "execution_count": 2,
   "metadata": {},
   "outputs": [
    {
     "name": "stdout",
     "output_type": "stream",
     "text": [
      "Categorical features:  ['Name', 'Sex', 'Ticket', 'Cabin', 'Embarked', 'Label']\n",
      "Numeric features:  ['Pclass', 'Age', 'SibSp', 'Parch', 'Fare']\n"
     ]
    },
    {
     "data": {
      "text/html": [
       "<div>\n",
       "<style scoped>\n",
       "    .dataframe tbody tr th:only-of-type {\n",
       "        vertical-align: middle;\n",
       "    }\n",
       "\n",
       "    .dataframe tbody tr th {\n",
       "        vertical-align: top;\n",
       "    }\n",
       "\n",
       "    .dataframe thead th {\n",
       "        text-align: right;\n",
       "    }\n",
       "</style>\n",
       "<table border=\"1\" class=\"dataframe\">\n",
       "  <thead>\n",
       "    <tr style=\"text-align: right;\">\n",
       "      <th></th>\n",
       "      <th>Pclass</th>\n",
       "      <th>Name</th>\n",
       "      <th>Sex</th>\n",
       "      <th>Age</th>\n",
       "      <th>SibSp</th>\n",
       "      <th>Parch</th>\n",
       "      <th>Ticket</th>\n",
       "      <th>Fare</th>\n",
       "      <th>Cabin</th>\n",
       "      <th>Embarked</th>\n",
       "      <th>Label</th>\n",
       "    </tr>\n",
       "  </thead>\n",
       "  <tbody>\n",
       "    <tr>\n",
       "      <th>0</th>\n",
       "      <td>3</td>\n",
       "      <td>Braund, Mr. Owen Harris</td>\n",
       "      <td>male</td>\n",
       "      <td>22.0</td>\n",
       "      <td>1</td>\n",
       "      <td>0</td>\n",
       "      <td>A/5 21171</td>\n",
       "      <td>7.2500</td>\n",
       "      <td>NaN</td>\n",
       "      <td>S</td>\n",
       "      <td>train</td>\n",
       "    </tr>\n",
       "    <tr>\n",
       "      <th>1</th>\n",
       "      <td>1</td>\n",
       "      <td>Cumings, Mrs. John Bradley (Florence Briggs Th...</td>\n",
       "      <td>female</td>\n",
       "      <td>38.0</td>\n",
       "      <td>1</td>\n",
       "      <td>0</td>\n",
       "      <td>PC 17599</td>\n",
       "      <td>71.2833</td>\n",
       "      <td>C85</td>\n",
       "      <td>C</td>\n",
       "      <td>train</td>\n",
       "    </tr>\n",
       "    <tr>\n",
       "      <th>2</th>\n",
       "      <td>3</td>\n",
       "      <td>Heikkinen, Miss. Laina</td>\n",
       "      <td>female</td>\n",
       "      <td>26.0</td>\n",
       "      <td>0</td>\n",
       "      <td>0</td>\n",
       "      <td>STON/O2. 3101282</td>\n",
       "      <td>7.9250</td>\n",
       "      <td>NaN</td>\n",
       "      <td>S</td>\n",
       "      <td>train</td>\n",
       "    </tr>\n",
       "    <tr>\n",
       "      <th>3</th>\n",
       "      <td>1</td>\n",
       "      <td>Futrelle, Mrs. Jacques Heath (Lily May Peel)</td>\n",
       "      <td>female</td>\n",
       "      <td>35.0</td>\n",
       "      <td>1</td>\n",
       "      <td>0</td>\n",
       "      <td>113803</td>\n",
       "      <td>53.1000</td>\n",
       "      <td>C123</td>\n",
       "      <td>S</td>\n",
       "      <td>train</td>\n",
       "    </tr>\n",
       "    <tr>\n",
       "      <th>4</th>\n",
       "      <td>3</td>\n",
       "      <td>Allen, Mr. William Henry</td>\n",
       "      <td>male</td>\n",
       "      <td>35.0</td>\n",
       "      <td>0</td>\n",
       "      <td>0</td>\n",
       "      <td>373450</td>\n",
       "      <td>8.0500</td>\n",
       "      <td>NaN</td>\n",
       "      <td>S</td>\n",
       "      <td>train</td>\n",
       "    </tr>\n",
       "  </tbody>\n",
       "</table>\n",
       "</div>"
      ],
      "text/plain": [
       "   Pclass  ...    Label\n",
       "0       3  ...    train\n",
       "1       1  ...    train\n",
       "2       3  ...    train\n",
       "3       1  ...    train\n",
       "4       3  ...    train\n",
       "\n",
       "[5 rows x 11 columns]"
      ]
     },
     "execution_count": 2,
     "metadata": {},
     "output_type": "execute_result"
    }
   ],
   "source": [
    "\n",
    "\n",
    "# Read the data\n",
    "train= pd.read_csv('../input/train.csv')\n",
    "train['Label'] = 'train'\n",
    "\n",
    "test = pd.read_csv('../input/test.csv')\n",
    "test['Label'] = 'test'\n",
    "\n",
    "# Process as full dataset\n",
    "train.dropna(axis=0, subset=['Survived'], inplace=True) # Drop rows with uknown survival\n",
    "X_full = pd.concat([train.drop('Survived', axis = 1), test], axis = 0)\n",
    "X_full.drop('PassengerId', axis = 1, inplace=True)\n",
    "\n",
    "# Select categorical columns\n",
    "print(\"Categorical features: \", [cname for cname in X_full.columns if X_full[cname].dtype == \"object\"])\n",
    "\n",
    "# Select numeric columns\n",
    "print(\"Numeric features: \", [cname for cname in X_full.columns if X_full[cname].dtype in ['int64', 'float64']])\n",
    "\n",
    "X_full.head()\n"
   ]
  },
  {
   "cell_type": "code",
   "execution_count": 3,
   "metadata": {},
   "outputs": [
    {
     "name": "stdout",
     "output_type": "stream",
     "text": [
      "Age          263\n",
      "Fare           1\n",
      "Cabin       1014\n",
      "Embarked       2\n",
      "dtype: int64\n"
     ]
    }
   ],
   "source": [
    "missing_val_count_by_column = (X_full.isnull().sum())\n",
    "print(missing_val_count_by_column[missing_val_count_by_column > 0])"
   ]
  },
  {
   "cell_type": "code",
   "execution_count": 4,
   "metadata": {},
   "outputs": [
    {
     "name": "stdout",
     "output_type": "stream",
     "text": [
      "Age                 float64\n",
      "Fare                float64\n",
      "Pclass              float64\n",
      "SibSp               float64\n",
      "Parch               float64\n",
      "Embarked_C            uint8\n",
      "Embarked_Q            uint8\n",
      "Embarked_S            uint8\n",
      "Embarked_missing      uint8\n",
      "Sex_female            uint8\n",
      "Sex_male              uint8\n",
      "Label_test            uint8\n",
      "Label_train           uint8\n",
      "dtype: object\n",
      "    Age     Fare  Pclass     ...       Sex_male  Label_test  Label_train\n",
      "0  22.0   7.2500     3.0     ...              1           0            1\n",
      "1  38.0  71.2833     1.0     ...              0           0            1\n",
      "2  26.0   7.9250     3.0     ...              0           0            1\n",
      "3  35.0  53.1000     1.0     ...              0           0            1\n",
      "4  35.0   8.0500     3.0     ...              1           0            1\n",
      "\n",
      "[5 rows x 13 columns]\n"
     ]
    }
   ],
   "source": [
    "from sklearn.compose import ColumnTransformer\n",
    "from sklearn.impute import SimpleImputer\n",
    "from sklearn.preprocessing import StandardScaler, OneHotEncoder\n",
    "\n",
    "# Remove unuseful features\n",
    "X_full.drop('Name', axis=1, inplace=True)\n",
    "X_full.drop('Ticket', axis=1, inplace=True)\n",
    "X_full.drop('Cabin', axis=1, inplace=True)\n",
    "\n",
    "# Setup method for missing data using a median imputer for important numeric features\n",
    "num_simple_imputer = SimpleImputer(strategy='median')\n",
    "numeric_features = ['Age', 'Fare', 'Pclass', 'SibSp', 'Parch']\n",
    "num_transformed = pd.DataFrame(num_simple_imputer.fit_transform(X_full[numeric_features]))\n",
    "num_transformed.columns = numeric_features\n",
    "\n",
    "# Setup one hot enoding for catagorical features\n",
    "cat_simple_imputer = SimpleImputer(strategy='constant', fill_value='missing')\n",
    "categorical_features = ['Embarked','Sex', 'Label']\n",
    "cat_transformed = pd.DataFrame(cat_simple_imputer.fit_transform(X_full[categorical_features]))\n",
    "cat_transformed.columns = categorical_features\n",
    "X_dummies = pd.get_dummies(cat_transformed, columns = categorical_features)\n",
    "X_full = pd.concat([num_transformed, X_dummies], axis = 1)\n",
    "\n",
    "print(X_full.dtypes)\n",
    "print(X_full.head())"
   ]
  },
  {
   "cell_type": "code",
   "execution_count": 5,
   "metadata": {},
   "outputs": [
    {
     "data": {
      "text/plain": [
       "<matplotlib.axes._subplots.AxesSubplot at 0x7f84a846b630>"
      ]
     },
     "execution_count": 5,
     "metadata": {},
     "output_type": "execute_result"
    },
    {
     "data": {
      "image/png": "[encoded data removed]",
      "text/plain": [
       "<Figure size 432x288 with 2 Axes>"
      ]
     },
     "metadata": {},
     "output_type": "display_data"
    }
   ],
   "source": [
    "import seaborn as sns\n",
    "corr = X_full.corr()\n",
    "sns.heatmap(corr, cmap = sns.color_palette(\"coolwarm\", 10))"
   ]
  },
  {
   "cell_type": "code",
   "execution_count": 6,
   "metadata": {},
   "outputs": [],
   "source": [
    "# Split your data\n",
    "X = X_full[X_full['Label_train'] == 1].copy()\n",
    "X_test = X_full[X_full['Label_test'] == 1].copy()\n",
    "\n",
    "# Drop your labels\n",
    "X.drop('Label_train', axis=1, inplace=True)\n",
    "X.drop('Label_test', axis=1, inplace=True)\n",
    "X_test.drop('Label_test', axis=1, inplace=True)\n",
    "X_test.drop('Label_train', axis=1, inplace=True)\n",
    "y = train.Survived"
   ]
  },
  {
   "cell_type": "code",
   "execution_count": 7,
   "metadata": {},
   "outputs": [],
   "source": [
    "X_train, X_valid, y_train, y_valid = train_test_split(X, y, train_size=0.7, test_size=0.3,\n",
    "                                                                random_state=0)"
   ]
  },
  {
   "cell_type": "code",
   "execution_count": 8,
   "metadata": {},
   "outputs": [
    {
     "name": "stdout",
     "output_type": "stream",
     "text": [
      "Accuracy: 83.58%\n",
      "Thresh=0.000, n=11, Accuracy: 83.58%\n",
      "MAE:  0.16417910447761194\n",
      "Thresh=0.000, n=11, Accuracy: 83.58%\n",
      "MAE:  0.16417910447761194\n",
      "Thresh=0.027, n=9, Accuracy: 83.58%\n",
      "MAE:  0.16417910447761194\n",
      "Thresh=0.027, n=8, Accuracy: 85.07%\n",
      "MAE:  0.14925373134328357\n",
      "Thresh=0.030, n=7, Accuracy: 82.46%\n",
      "MAE:  0.17537313432835822\n",
      "Thresh=0.038, n=6, Accuracy: 82.84%\n",
      "MAE:  0.17164179104477612\n",
      "Thresh=0.043, n=5, Accuracy: 84.33%\n",
      "MAE:  0.15671641791044777\n",
      "Thresh=0.093, n=4, Accuracy: 79.85%\n",
      "MAE:  0.20149253731343283\n",
      "Thresh=0.113, n=3, Accuracy: 80.97%\n",
      "MAE:  0.19029850746268656\n",
      "Thresh=0.151, n=2, Accuracy: 78.73%\n",
      "MAE:  0.2126865671641791\n",
      "Thresh=0.479, n=1, Accuracy: 78.73%\n",
      "MAE:  0.2126865671641791\n"
     ]
    }
   ],
   "source": [
    "from numpy import sort\n",
    "from sklearn.metrics import accuracy_score\n",
    "from sklearn.feature_selection import SelectFromModel\n",
    "from sklearn.metrics import mean_absolute_error\n",
    "from xgboost import XGBClassifier\n",
    "\n",
    "# Initial model\n",
    "model = XGBClassifier(random_state = 18)\n",
    "model.fit(X_train, y_train)\n",
    "\n",
    "y_pred = model.predict(X_valid)\n",
    "predictions = [round(value) for value in y_pred]\n",
    "accuracy = accuracy_score(y_valid, predictions)\n",
    "print(\"Accuracy: %.2f%%\" % (accuracy * 100.0))\n",
    "\n",
    "# Fit model using each importance as a threshold\n",
    "thresholds = sort(model.feature_importances_)\n",
    "models = []\n",
    "for thresh in thresholds:\n",
    "    # Select features using threshold\n",
    "    selection = SelectFromModel(model, threshold=thresh, prefit=True)\n",
    "    select_X_train = selection.transform(X_train)\n",
    "    # Train model\n",
    "    selection_model = XGBClassifier()\n",
    "    selection_model.fit(select_X_train, y_train)\n",
    "    models.append([selection_model, selection])\n",
    "    # Eval model\n",
    "    select_X_valid = selection.transform(X_valid)\n",
    "    select_y_pred = selection_model.predict(select_X_valid)\n",
    "    predictions = [round(value) for value in select_y_pred]\n",
    "    accuracy = accuracy_score(y_valid, predictions)\n",
    "    print(\"Thresh=%.3f, n=%d, Accuracy: %.2f%%\" % (thresh, select_X_train.shape[1], accuracy*100.0))\n",
    "    print(\"MAE: \", mean_absolute_error(y_valid, predictions))\n"
   ]
  },
  {
   "cell_type": "code",
   "execution_count": 9,
   "metadata": {},
   "outputs": [
    {
     "name": "stdout",
     "output_type": "stream",
     "text": [
      "n=8, Accuracy: 85.07%\n",
      "MAE:  0.14925373134328357\n"
     ]
    }
   ],
   "source": [
    "final_model = models[3][0]\n",
    "final_selection = models[3][1]\n",
    "final_X_train = final_selection.transform(X_train)\n",
    "\n",
    "final_X_test = final_selection.transform(X_test)\n",
    "final_X_valid = final_selection.transform(X_valid)\n",
    "\n",
    "final_y_pred = final_model.predict(final_X_valid)\n",
    "final_predictions = [round(value) for value in final_y_pred]\n",
    "\n",
    "# Print evaluation metrics\n",
    "accuracy = accuracy_score(y_valid, final_predictions)\n",
    "print(\"n=%d, Accuracy: %.2f%%\" % (final_X_train.shape[1], accuracy*100.0))\n",
    "print(\"MAE: \", mean_absolute_error(y_valid, final_predictions))"
   ]
  },
  {
   "cell_type": "code",
   "execution_count": 10,
   "metadata": {},
   "outputs": [
    {
     "name": "stdout",
     "output_type": "stream",
     "text": [
      "Fitting 3 folds for each of 144 candidates, totalling 432 fits\n"
     ]
    },
    {
     "name": "stderr",
     "output_type": "stream",
     "text": [
      "[Parallel(n_jobs=-1)]: Using backend LokyBackend with 4 concurrent workers.\n",
      "[Parallel(n_jobs=-1)]: Done  33 tasks      | elapsed:    4.9s\n"
     ]
    },
    {
     "name": "stdout",
     "output_type": "stream",
     "text": [
      "{'early_stopping_rounds': 3, 'learning_rate': 0.01, 'max_depth': 5, 'n_estimators': 75}\n"
     ]
    },
    {
     "name": "stderr",
     "output_type": "stream",
     "text": [
      "[Parallel(n_jobs=-1)]: Done 432 out of 432 | elapsed:   10.7s finished\n"
     ]
    }
   ],
   "source": [
    "# from sklearn.model_selection import GridSearchCV\n",
    "from sklearn.metrics import mean_absolute_error\n",
    "from sklearn.model_selection import GridSearchCV\n",
    "\n",
    "# Set up GridSearchCV in order to determine the best parameters for a gradient boosting model\n",
    "grid_param = {  \n",
    "    'n_estimators': [12, 25, 50, 75],\n",
    "    'max_depth': [3, 4, 5],\n",
    "    'learning_rate': [0.01, 0.05, 0.1],\n",
    "    'early_stopping_rounds': [3, 4, 5, 6]\n",
    "    }\n",
    "\n",
    "gd_sr = GridSearchCV(estimator = final_model, param_grid = grid_param, \n",
    "                     cv = 3, n_jobs = -1, verbose = 2)\n",
    "\n",
    "gd_sr.fit(X_train, y_train)  \n",
    "best_parameters = gd_sr.best_params_\n",
    "print(best_parameters)"
   ]
  },
  {
   "cell_type": "code",
   "execution_count": 11,
   "metadata": {},
   "outputs": [
    {
     "name": "stdout",
     "output_type": "stream",
     "text": [
      "n=7, Accuracy: 81.72%\n",
      "MAE:  0.1828358208955224\n"
     ]
    }
   ],
   "source": [
    "selection = SelectFromModel(model, threshold=0.027, prefit=True)\n",
    "select_X_train = selection.transform(X_train)\n",
    "select_X_test = selection.transform(X_test)\n",
    "select_X_valid = selection.transform(X_valid)\n",
    "another_model = XGBClassifier(early_stopping_rounds=3, learning_rate=0.01, max_depth=5, n_estimators=75)\n",
    "another_model.fit(select_X_train, y_train)\n",
    "\n",
    "select_y_pred = another_model.predict(select_X_valid)\n",
    "select_predictions = [round(value) for value in select_y_pred]\n",
    "\n",
    "# Print evaluation metrics\n",
    "accuracy = accuracy_score(y_valid, select_predictions)\n",
    "print(\"n=%d, Accuracy: %.2f%%\" % (select_X_train.shape[1], accuracy*100.0))\n",
    "print(\"MAE: \", mean_absolute_error(y_valid, select_predictions))"
   ]
  },
  {
   "cell_type": "code",
   "execution_count": 12,
   "metadata": {},
   "outputs": [
    {
     "data": {
      "text/plain": [
       "array([[153,  15],\n",
       "       [ 25,  75]])"
      ]
     },
     "execution_count": 12,
     "metadata": {},
     "output_type": "execute_result"
    }
   ],
   "source": [
    "# Form confusion matrix\n",
    "from sklearn.metrics import confusion_matrix\n",
    "confusion_matrix(y_valid, final_y_pred)"
   ]
  },
  {
   "cell_type": "code",
   "execution_count": 13,
   "metadata": {},
   "outputs": [
    {
     "name": "stdout",
     "output_type": "stream",
     "text": [
      "    PassengerId  Survived\n",
      "0           892         0\n",
      "1           893         0\n",
      "2           894         0\n",
      "3           895         0\n",
      "4           896         1\n",
      "5           897         0\n",
      "6           898         1\n",
      "7           899         0\n",
      "8           900         1\n",
      "9           901         0\n",
      "10          902         0\n",
      "11          903         0\n",
      "12          904         1\n",
      "13          905         0\n",
      "14          906         1\n"
     ]
    }
   ],
   "source": [
    "final_preds = another_model.predict(select_X_test)\n",
    "\n",
    "# Save test predictions to file\n",
    "output = pd.DataFrame({'PassengerId':test.PassengerId,'Survived': final_preds})\n",
    "print(output.head(15))\n",
    "output.to_csv('submission.csv', index=False)"
   ]
  },
  {
   "cell_type": "code",
   "execution_count": 14,
   "metadata": {},
   "outputs": [],
   "source": []
  }
 ],
 "metadata": {
  "kernelspec": {
   "display_name": "Python 3",
   "language": "python",
   "name": "python3"
  },
  "language_info": {
   "codemirror_mode": {
    "name": "ipython",
    "version": 3
   },
   "file_extension": ".py",
   "mimetype": "text/x-python",
   "name": "python",
   "nbconvert_exporter": "python",
   "pygments_lexer": "ipython3",
   "version": "3.6.4"
  }
 },
 "nbformat": 4,
 "nbformat_minor": 1
}
