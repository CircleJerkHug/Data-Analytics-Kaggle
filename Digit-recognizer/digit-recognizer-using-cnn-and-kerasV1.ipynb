{
 "cells": [
  {
   "cell_type": "code",
   "execution_count": 1,
   "metadata": {
    "_cell_guid": "b1076dfc-b9ad-4769-8c92-a6c4dae69d19",
    "_uuid": "8f2839f25d086af736a60e9eeb907d3b93b6e0e5"
   },
   "outputs": [
    {
     "name": "stderr",
     "output_type": "stream",
     "text": [
      "Using TensorFlow backend.\n"
     ]
    },
    {
     "name": "stdout",
     "output_type": "stream",
     "text": [
      "['train.csv', 'sample_submission.csv', 'test.csv']\n"
     ]
    }
   ],
   "source": [
    "# This Python 3 environment comes with many helpful analytics libraries installed\n",
    "# It is defined by the kaggle/python docker image: https://github.com/kaggle/docker-python\n",
    "# For example, here's several helpful packages to load in \n",
    "\n",
    "import numpy as np # linear algebra\n",
    "import pandas as pd # data processing, CSV file I/O (e.g. pd.read_csv)\n",
    "import matplotlib.pyplot as plt\n",
    "import seaborn as sns\n",
    "from sklearn.preprocessing import LabelEncoder\n",
    "from sklearn.metrics import confusion_matrix, classification_report, accuracy_score\n",
    "from sklearn.model_selection import train_test_split\n",
    "from sklearn.model_selection import cross_val_score, KFold \n",
    "from sklearn.model_selection import RandomizedSearchCV, GridSearchCV\n",
    "from sklearn.decomposition import PCA as RandomizedPCA\n",
    "from sklearn import datasets\n",
    "from sklearn.pipeline import Pipeline\n",
    "from scipy.stats import uniform\n",
    "\n",
    "import itertools\n",
    "\n",
    "import warnings\n",
    "from sklearn.exceptions import ConvergenceWarning\n",
    "warnings.filterwarnings(\"ignore\", category=ConvergenceWarning)\n",
    "\n",
    "from keras.utils.np_utils import to_categorical\n",
    "from keras.utils import np_utils\n",
    "\n",
    "from keras.models import Sequential\n",
    "from keras.layers import Dense, Dropout, Flatten\n",
    "from keras.layers import Conv2D, MaxPooling2D, MaxPool2D\n",
    "#from keras.layers import AvgPool2D, BatchNormalization, Reshape\n",
    "from keras.optimizers import Adadelta, RMSprop, Adam\n",
    "from keras.losses import categorical_crossentropy\n",
    "from keras.wrappers.scikit_learn import KerasClassifier\n",
    "\n",
    "# Input data files are available in the \"../input/\" directory.\n",
    "# For example, running this (by clicking run or pressing Shift+Enter) will list the files in the input directory\n",
    "\n",
    "import tensorflow as tf\n",
    "import os\n",
    "print(os.listdir(\"../input\"))\n",
    "\n",
    "# Any results you write to the current directory are saved as output."
   ]
  },
  {
   "cell_type": "code",
   "execution_count": 2,
   "metadata": {
    "_cell_guid": "79c7e3d0-c299-4dcb-8224-4455121ee9b0",
    "_uuid": "d629ff2d2480ee46fbb7e2d37f6b5fab8052498a"
   },
   "outputs": [
    {
     "data": {
      "text/html": [
       "<div>\n",
       "<style scoped>\n",
       "    .dataframe tbody tr th:only-of-type {\n",
       "        vertical-align: middle;\n",
       "    }\n",
       "\n",
       "    .dataframe tbody tr th {\n",
       "        vertical-align: top;\n",
       "    }\n",
       "\n",
       "    .dataframe thead th {\n",
       "        text-align: right;\n",
       "    }\n",
       "</style>\n",
       "<table border=\"1\" class=\"dataframe\">\n",
       "  <thead>\n",
       "    <tr style=\"text-align: right;\">\n",
       "      <th></th>\n",
       "      <th>label</th>\n",
       "      <th>pixel0</th>\n",
       "      <th>pixel1</th>\n",
       "      <th>pixel2</th>\n",
       "      <th>pixel3</th>\n",
       "      <th>pixel4</th>\n",
       "      <th>pixel5</th>\n",
       "      <th>pixel6</th>\n",
       "      <th>pixel7</th>\n",
       "      <th>pixel8</th>\n",
       "      <th>pixel9</th>\n",
       "      <th>pixel10</th>\n",
       "      <th>pixel11</th>\n",
       "      <th>pixel12</th>\n",
       "      <th>pixel13</th>\n",
       "      <th>pixel14</th>\n",
       "      <th>pixel15</th>\n",
       "      <th>pixel16</th>\n",
       "      <th>pixel17</th>\n",
       "      <th>pixel18</th>\n",
       "      <th>pixel19</th>\n",
       "      <th>pixel20</th>\n",
       "      <th>pixel21</th>\n",
       "      <th>pixel22</th>\n",
       "      <th>pixel23</th>\n",
       "      <th>pixel24</th>\n",
       "      <th>pixel25</th>\n",
       "      <th>pixel26</th>\n",
       "      <th>pixel27</th>\n",
       "      <th>pixel28</th>\n",
       "      <th>pixel29</th>\n",
       "      <th>pixel30</th>\n",
       "      <th>pixel31</th>\n",
       "      <th>pixel32</th>\n",
       "      <th>pixel33</th>\n",
       "      <th>pixel34</th>\n",
       "      <th>pixel35</th>\n",
       "      <th>pixel36</th>\n",
       "      <th>pixel37</th>\n",
       "      <th>pixel38</th>\n",
       "      <th>...</th>\n",
       "      <th>pixel744</th>\n",
       "      <th>pixel745</th>\n",
       "      <th>pixel746</th>\n",
       "      <th>pixel747</th>\n",
       "      <th>pixel748</th>\n",
       "      <th>pixel749</th>\n",
       "      <th>pixel750</th>\n",
       "      <th>pixel751</th>\n",
       "      <th>pixel752</th>\n",
       "      <th>pixel753</th>\n",
       "      <th>pixel754</th>\n",
       "      <th>pixel755</th>\n",
       "      <th>pixel756</th>\n",
       "      <th>pixel757</th>\n",
       "      <th>pixel758</th>\n",
       "      <th>pixel759</th>\n",
       "      <th>pixel760</th>\n",
       "      <th>pixel761</th>\n",
       "      <th>pixel762</th>\n",
       "      <th>pixel763</th>\n",
       "      <th>pixel764</th>\n",
       "      <th>pixel765</th>\n",
       "      <th>pixel766</th>\n",
       "      <th>pixel767</th>\n",
       "      <th>pixel768</th>\n",
       "      <th>pixel769</th>\n",
       "      <th>pixel770</th>\n",
       "      <th>pixel771</th>\n",
       "      <th>pixel772</th>\n",
       "      <th>pixel773</th>\n",
       "      <th>pixel774</th>\n",
       "      <th>pixel775</th>\n",
       "      <th>pixel776</th>\n",
       "      <th>pixel777</th>\n",
       "      <th>pixel778</th>\n",
       "      <th>pixel779</th>\n",
       "      <th>pixel780</th>\n",
       "      <th>pixel781</th>\n",
       "      <th>pixel782</th>\n",
       "      <th>pixel783</th>\n",
       "    </tr>\n",
       "  </thead>\n",
       "  <tbody>\n",
       "    <tr>\n",
       "      <th>0</th>\n",
       "      <td>1</td>\n",
       "      <td>0</td>\n",
       "      <td>0</td>\n",
       "      <td>0</td>\n",
       "      <td>0</td>\n",
       "      <td>0</td>\n",
       "      <td>0</td>\n",
       "      <td>0</td>\n",
       "      <td>0</td>\n",
       "      <td>0</td>\n",
       "      <td>0</td>\n",
       "      <td>0</td>\n",
       "      <td>0</td>\n",
       "      <td>0</td>\n",
       "      <td>0</td>\n",
       "      <td>0</td>\n",
       "      <td>0</td>\n",
       "      <td>0</td>\n",
       "      <td>0</td>\n",
       "      <td>0</td>\n",
       "      <td>0</td>\n",
       "      <td>0</td>\n",
       "      <td>0</td>\n",
       "      <td>0</td>\n",
       "      <td>0</td>\n",
       "      <td>0</td>\n",
       "      <td>0</td>\n",
       "      <td>0</td>\n",
       "      <td>0</td>\n",
       "      <td>0</td>\n",
       "      <td>0</td>\n",
       "      <td>0</td>\n",
       "      <td>0</td>\n",
       "      <td>0</td>\n",
       "      <td>0</td>\n",
       "      <td>0</td>\n",
       "      <td>0</td>\n",
       "      <td>0</td>\n",
       "      <td>0</td>\n",
       "      <td>0</td>\n",
       "      <td>...</td>\n",
       "      <td>0</td>\n",
       "      <td>0</td>\n",
       "      <td>0</td>\n",
       "      <td>0</td>\n",
       "      <td>0</td>\n",
       "      <td>0</td>\n",
       "      <td>0</td>\n",
       "      <td>0</td>\n",
       "      <td>0</td>\n",
       "      <td>0</td>\n",
       "      <td>0</td>\n",
       "      <td>0</td>\n",
       "      <td>0</td>\n",
       "      <td>0</td>\n",
       "      <td>0</td>\n",
       "      <td>0</td>\n",
       "      <td>0</td>\n",
       "      <td>0</td>\n",
       "      <td>0</td>\n",
       "      <td>0</td>\n",
       "      <td>0</td>\n",
       "      <td>0</td>\n",
       "      <td>0</td>\n",
       "      <td>0</td>\n",
       "      <td>0</td>\n",
       "      <td>0</td>\n",
       "      <td>0</td>\n",
       "      <td>0</td>\n",
       "      <td>0</td>\n",
       "      <td>0</td>\n",
       "      <td>0</td>\n",
       "      <td>0</td>\n",
       "      <td>0</td>\n",
       "      <td>0</td>\n",
       "      <td>0</td>\n",
       "      <td>0</td>\n",
       "      <td>0</td>\n",
       "      <td>0</td>\n",
       "      <td>0</td>\n",
       "      <td>0</td>\n",
       "    </tr>\n",
       "    <tr>\n",
       "      <th>1</th>\n",
       "      <td>0</td>\n",
       "      <td>0</td>\n",
       "      <td>0</td>\n",
       "      <td>0</td>\n",
       "      <td>0</td>\n",
       "      <td>0</td>\n",
       "      <td>0</td>\n",
       "      <td>0</td>\n",
       "      <td>0</td>\n",
       "      <td>0</td>\n",
       "      <td>0</td>\n",
       "      <td>0</td>\n",
       "      <td>0</td>\n",
       "      <td>0</td>\n",
       "      <td>0</td>\n",
       "      <td>0</td>\n",
       "      <td>0</td>\n",
       "      <td>0</td>\n",
       "      <td>0</td>\n",
       "      <td>0</td>\n",
       "      <td>0</td>\n",
       "      <td>0</td>\n",
       "      <td>0</td>\n",
       "      <td>0</td>\n",
       "      <td>0</td>\n",
       "      <td>0</td>\n",
       "      <td>0</td>\n",
       "      <td>0</td>\n",
       "      <td>0</td>\n",
       "      <td>0</td>\n",
       "      <td>0</td>\n",
       "      <td>0</td>\n",
       "      <td>0</td>\n",
       "      <td>0</td>\n",
       "      <td>0</td>\n",
       "      <td>0</td>\n",
       "      <td>0</td>\n",
       "      <td>0</td>\n",
       "      <td>0</td>\n",
       "      <td>0</td>\n",
       "      <td>...</td>\n",
       "      <td>0</td>\n",
       "      <td>0</td>\n",
       "      <td>0</td>\n",
       "      <td>0</td>\n",
       "      <td>0</td>\n",
       "      <td>0</td>\n",
       "      <td>0</td>\n",
       "      <td>0</td>\n",
       "      <td>0</td>\n",
       "      <td>0</td>\n",
       "      <td>0</td>\n",
       "      <td>0</td>\n",
       "      <td>0</td>\n",
       "      <td>0</td>\n",
       "      <td>0</td>\n",
       "      <td>0</td>\n",
       "      <td>0</td>\n",
       "      <td>0</td>\n",
       "      <td>0</td>\n",
       "      <td>0</td>\n",
       "      <td>0</td>\n",
       "      <td>0</td>\n",
       "      <td>0</td>\n",
       "      <td>0</td>\n",
       "      <td>0</td>\n",
       "      <td>0</td>\n",
       "      <td>0</td>\n",
       "      <td>0</td>\n",
       "      <td>0</td>\n",
       "      <td>0</td>\n",
       "      <td>0</td>\n",
       "      <td>0</td>\n",
       "      <td>0</td>\n",
       "      <td>0</td>\n",
       "      <td>0</td>\n",
       "      <td>0</td>\n",
       "      <td>0</td>\n",
       "      <td>0</td>\n",
       "      <td>0</td>\n",
       "      <td>0</td>\n",
       "    </tr>\n",
       "    <tr>\n",
       "      <th>2</th>\n",
       "      <td>1</td>\n",
       "      <td>0</td>\n",
       "      <td>0</td>\n",
       "      <td>0</td>\n",
       "      <td>0</td>\n",
       "      <td>0</td>\n",
       "      <td>0</td>\n",
       "      <td>0</td>\n",
       "      <td>0</td>\n",
       "      <td>0</td>\n",
       "      <td>0</td>\n",
       "      <td>0</td>\n",
       "      <td>0</td>\n",
       "      <td>0</td>\n",
       "      <td>0</td>\n",
       "      <td>0</td>\n",
       "      <td>0</td>\n",
       "      <td>0</td>\n",
       "      <td>0</td>\n",
       "      <td>0</td>\n",
       "      <td>0</td>\n",
       "      <td>0</td>\n",
       "      <td>0</td>\n",
       "      <td>0</td>\n",
       "      <td>0</td>\n",
       "      <td>0</td>\n",
       "      <td>0</td>\n",
       "      <td>0</td>\n",
       "      <td>0</td>\n",
       "      <td>0</td>\n",
       "      <td>0</td>\n",
       "      <td>0</td>\n",
       "      <td>0</td>\n",
       "      <td>0</td>\n",
       "      <td>0</td>\n",
       "      <td>0</td>\n",
       "      <td>0</td>\n",
       "      <td>0</td>\n",
       "      <td>0</td>\n",
       "      <td>0</td>\n",
       "      <td>...</td>\n",
       "      <td>0</td>\n",
       "      <td>0</td>\n",
       "      <td>0</td>\n",
       "      <td>0</td>\n",
       "      <td>0</td>\n",
       "      <td>0</td>\n",
       "      <td>0</td>\n",
       "      <td>0</td>\n",
       "      <td>0</td>\n",
       "      <td>0</td>\n",
       "      <td>0</td>\n",
       "      <td>0</td>\n",
       "      <td>0</td>\n",
       "      <td>0</td>\n",
       "      <td>0</td>\n",
       "      <td>0</td>\n",
       "      <td>0</td>\n",
       "      <td>0</td>\n",
       "      <td>0</td>\n",
       "      <td>0</td>\n",
       "      <td>0</td>\n",
       "      <td>0</td>\n",
       "      <td>0</td>\n",
       "      <td>0</td>\n",
       "      <td>0</td>\n",
       "      <td>0</td>\n",
       "      <td>0</td>\n",
       "      <td>0</td>\n",
       "      <td>0</td>\n",
       "      <td>0</td>\n",
       "      <td>0</td>\n",
       "      <td>0</td>\n",
       "      <td>0</td>\n",
       "      <td>0</td>\n",
       "      <td>0</td>\n",
       "      <td>0</td>\n",
       "      <td>0</td>\n",
       "      <td>0</td>\n",
       "      <td>0</td>\n",
       "      <td>0</td>\n",
       "    </tr>\n",
       "    <tr>\n",
       "      <th>3</th>\n",
       "      <td>4</td>\n",
       "      <td>0</td>\n",
       "      <td>0</td>\n",
       "      <td>0</td>\n",
       "      <td>0</td>\n",
       "      <td>0</td>\n",
       "      <td>0</td>\n",
       "      <td>0</td>\n",
       "      <td>0</td>\n",
       "      <td>0</td>\n",
       "      <td>0</td>\n",
       "      <td>0</td>\n",
       "      <td>0</td>\n",
       "      <td>0</td>\n",
       "      <td>0</td>\n",
       "      <td>0</td>\n",
       "      <td>0</td>\n",
       "      <td>0</td>\n",
       "      <td>0</td>\n",
       "      <td>0</td>\n",
       "      <td>0</td>\n",
       "      <td>0</td>\n",
       "      <td>0</td>\n",
       "      <td>0</td>\n",
       "      <td>0</td>\n",
       "      <td>0</td>\n",
       "      <td>0</td>\n",
       "      <td>0</td>\n",
       "      <td>0</td>\n",
       "      <td>0</td>\n",
       "      <td>0</td>\n",
       "      <td>0</td>\n",
       "      <td>0</td>\n",
       "      <td>0</td>\n",
       "      <td>0</td>\n",
       "      <td>0</td>\n",
       "      <td>0</td>\n",
       "      <td>0</td>\n",
       "      <td>0</td>\n",
       "      <td>0</td>\n",
       "      <td>...</td>\n",
       "      <td>0</td>\n",
       "      <td>0</td>\n",
       "      <td>0</td>\n",
       "      <td>0</td>\n",
       "      <td>0</td>\n",
       "      <td>0</td>\n",
       "      <td>0</td>\n",
       "      <td>0</td>\n",
       "      <td>0</td>\n",
       "      <td>0</td>\n",
       "      <td>0</td>\n",
       "      <td>0</td>\n",
       "      <td>0</td>\n",
       "      <td>0</td>\n",
       "      <td>0</td>\n",
       "      <td>0</td>\n",
       "      <td>0</td>\n",
       "      <td>0</td>\n",
       "      <td>0</td>\n",
       "      <td>0</td>\n",
       "      <td>0</td>\n",
       "      <td>0</td>\n",
       "      <td>0</td>\n",
       "      <td>0</td>\n",
       "      <td>0</td>\n",
       "      <td>0</td>\n",
       "      <td>0</td>\n",
       "      <td>0</td>\n",
       "      <td>0</td>\n",
       "      <td>0</td>\n",
       "      <td>0</td>\n",
       "      <td>0</td>\n",
       "      <td>0</td>\n",
       "      <td>0</td>\n",
       "      <td>0</td>\n",
       "      <td>0</td>\n",
       "      <td>0</td>\n",
       "      <td>0</td>\n",
       "      <td>0</td>\n",
       "      <td>0</td>\n",
       "    </tr>\n",
       "    <tr>\n",
       "      <th>4</th>\n",
       "      <td>0</td>\n",
       "      <td>0</td>\n",
       "      <td>0</td>\n",
       "      <td>0</td>\n",
       "      <td>0</td>\n",
       "      <td>0</td>\n",
       "      <td>0</td>\n",
       "      <td>0</td>\n",
       "      <td>0</td>\n",
       "      <td>0</td>\n",
       "      <td>0</td>\n",
       "      <td>0</td>\n",
       "      <td>0</td>\n",
       "      <td>0</td>\n",
       "      <td>0</td>\n",
       "      <td>0</td>\n",
       "      <td>0</td>\n",
       "      <td>0</td>\n",
       "      <td>0</td>\n",
       "      <td>0</td>\n",
       "      <td>0</td>\n",
       "      <td>0</td>\n",
       "      <td>0</td>\n",
       "      <td>0</td>\n",
       "      <td>0</td>\n",
       "      <td>0</td>\n",
       "      <td>0</td>\n",
       "      <td>0</td>\n",
       "      <td>0</td>\n",
       "      <td>0</td>\n",
       "      <td>0</td>\n",
       "      <td>0</td>\n",
       "      <td>0</td>\n",
       "      <td>0</td>\n",
       "      <td>0</td>\n",
       "      <td>0</td>\n",
       "      <td>0</td>\n",
       "      <td>0</td>\n",
       "      <td>0</td>\n",
       "      <td>0</td>\n",
       "      <td>...</td>\n",
       "      <td>0</td>\n",
       "      <td>0</td>\n",
       "      <td>0</td>\n",
       "      <td>0</td>\n",
       "      <td>0</td>\n",
       "      <td>0</td>\n",
       "      <td>0</td>\n",
       "      <td>0</td>\n",
       "      <td>0</td>\n",
       "      <td>0</td>\n",
       "      <td>0</td>\n",
       "      <td>0</td>\n",
       "      <td>0</td>\n",
       "      <td>0</td>\n",
       "      <td>0</td>\n",
       "      <td>0</td>\n",
       "      <td>0</td>\n",
       "      <td>0</td>\n",
       "      <td>0</td>\n",
       "      <td>0</td>\n",
       "      <td>0</td>\n",
       "      <td>0</td>\n",
       "      <td>0</td>\n",
       "      <td>0</td>\n",
       "      <td>0</td>\n",
       "      <td>0</td>\n",
       "      <td>0</td>\n",
       "      <td>0</td>\n",
       "      <td>0</td>\n",
       "      <td>0</td>\n",
       "      <td>0</td>\n",
       "      <td>0</td>\n",
       "      <td>0</td>\n",
       "      <td>0</td>\n",
       "      <td>0</td>\n",
       "      <td>0</td>\n",
       "      <td>0</td>\n",
       "      <td>0</td>\n",
       "      <td>0</td>\n",
       "      <td>0</td>\n",
       "    </tr>\n",
       "  </tbody>\n",
       "</table>\n",
       "</div>"
      ],
      "text/plain": [
       "   label  pixel0  pixel1    ...     pixel781  pixel782  pixel783\n",
       "0      1       0       0    ...            0         0         0\n",
       "1      0       0       0    ...            0         0         0\n",
       "2      1       0       0    ...            0         0         0\n",
       "3      4       0       0    ...            0         0         0\n",
       "4      0       0       0    ...            0         0         0\n",
       "\n",
       "[5 rows x 785 columns]"
      ]
     },
     "execution_count": 2,
     "metadata": {},
     "output_type": "execute_result"
    }
   ],
   "source": [
    "train=pd.read_csv(\"../input/train.csv\")\n",
    "test=pd.read_csv(\"../input/test.csv\")\n",
    "train.head()"
   ]
  },
  {
   "cell_type": "code",
   "execution_count": 3,
   "metadata": {},
   "outputs": [
    {
     "name": "stdout",
     "output_type": "stream",
     "text": [
      "Index(['label', 'pixel0', 'pixel1', 'pixel2', 'pixel3', 'pixel4', 'pixel5',\n",
      "       'pixel6', 'pixel7', 'pixel8',\n",
      "       ...\n",
      "       'pixel774', 'pixel775', 'pixel776', 'pixel777', 'pixel778', 'pixel779',\n",
      "       'pixel780', 'pixel781', 'pixel782', 'pixel783'],\n",
      "      dtype='object', length=785)\n"
     ]
    }
   ],
   "source": [
    "from sklearn import datasets\n",
    "print(train.keys())"
   ]
  },
  {
   "cell_type": "code",
   "execution_count": 4,
   "metadata": {},
   "outputs": [],
   "source": [
    "y=train[\"label\"]\n",
    "X=train.drop([\"label\"],axis=1)\n",
    "X_test=test"
   ]
  },
  {
   "cell_type": "code",
   "execution_count": 5,
   "metadata": {},
   "outputs": [
    {
     "name": "stdout",
     "output_type": "stream",
     "text": [
      "nr_samples train data: 30000\n",
      "start_ix_val: 30000\n",
      "end_ix_val: 40000\n"
     ]
    }
   ],
   "source": [
    "X=X/255.0\n",
    "X_test=X_test/255.0\n",
    "# for best performance, especially of the NN classfiers,\n",
    "# set mode = \"commit\"\n",
    "mode = \"edit\"\n",
    "mode = \"commit\"\n",
    "#\n",
    "\n",
    "if mode == \"edit\" :\n",
    "    nr_samples = 1200\n",
    "\n",
    "if mode == \"commit\" :    \n",
    "    nr_samples = 30000\n",
    "\n",
    "y_train=y[:nr_samples]\n",
    "X_train=X[:nr_samples]\n",
    "start_ix_val = nr_samples \n",
    "end_ix_val = nr_samples + int(nr_samples/3)\n",
    "y_val=y[start_ix_val:end_ix_val]\n",
    "X_val=X[start_ix_val:end_ix_val]\n",
    "    \n",
    "print(\"nr_samples train data:\", nr_samples)\n",
    "print(\"start_ix_val:\", start_ix_val)\n",
    "print(\"end_ix_val:\", end_ix_val)"
   ]
  },
  {
   "cell_type": "code",
   "execution_count": 6,
   "metadata": {},
   "outputs": [
    {
     "name": "stdout",
     "output_type": "stream",
     "text": [
      "X:\n",
      "<class 'pandas.core.frame.DataFrame'>\n",
      "RangeIndex: 42000 entries, 0 to 41999\n",
      "Columns: 784 entries, pixel0 to pixel783\n",
      "dtypes: float64(784)\n",
      "memory usage: 251.2 MB\n",
      "None\n",
      "__________________________________________________\n",
      "X_test:\n",
      "<class 'pandas.core.frame.DataFrame'>\n",
      "RangeIndex: 28000 entries, 0 to 27999\n",
      "Columns: 784 entries, pixel0 to pixel783\n",
      "dtypes: float64(784)\n",
      "memory usage: 167.5 MB\n",
      "None\n",
      "__________________________________________________\n",
      "y:\n",
      "(42000,)\n"
     ]
    }
   ],
   "source": [
    "print(\"X:\")\n",
    "print(X.info())\n",
    "print(\"_\"*50)\n",
    "print(\"X_test:\")\n",
    "print(X_test.info())\n",
    "print(\"_\"*50)\n",
    "print(\"y:\")\n",
    "print(y.shape)"
   ]
  },
  {
   "cell_type": "code",
   "execution_count": 7,
   "metadata": {},
   "outputs": [
    {
     "data": {
      "text/html": [
       "<div>\n",
       "<style scoped>\n",
       "    .dataframe tbody tr th:only-of-type {\n",
       "        vertical-align: middle;\n",
       "    }\n",
       "\n",
       "    .dataframe tbody tr th {\n",
       "        vertical-align: top;\n",
       "    }\n",
       "\n",
       "    .dataframe thead th {\n",
       "        text-align: right;\n",
       "    }\n",
       "</style>\n",
       "<table border=\"1\" class=\"dataframe\">\n",
       "  <thead>\n",
       "    <tr style=\"text-align: right;\">\n",
       "      <th></th>\n",
       "      <th>pixel0</th>\n",
       "      <th>pixel1</th>\n",
       "      <th>pixel2</th>\n",
       "      <th>pixel3</th>\n",
       "      <th>pixel4</th>\n",
       "      <th>pixel5</th>\n",
       "      <th>pixel6</th>\n",
       "      <th>pixel7</th>\n",
       "      <th>pixel8</th>\n",
       "      <th>pixel9</th>\n",
       "      <th>pixel10</th>\n",
       "      <th>pixel11</th>\n",
       "      <th>pixel12</th>\n",
       "      <th>pixel13</th>\n",
       "      <th>pixel14</th>\n",
       "      <th>pixel15</th>\n",
       "      <th>pixel16</th>\n",
       "      <th>pixel17</th>\n",
       "      <th>pixel18</th>\n",
       "      <th>pixel19</th>\n",
       "      <th>pixel20</th>\n",
       "      <th>pixel21</th>\n",
       "      <th>pixel22</th>\n",
       "      <th>pixel23</th>\n",
       "      <th>pixel24</th>\n",
       "      <th>pixel25</th>\n",
       "      <th>pixel26</th>\n",
       "      <th>pixel27</th>\n",
       "      <th>pixel28</th>\n",
       "      <th>pixel29</th>\n",
       "      <th>pixel30</th>\n",
       "      <th>pixel31</th>\n",
       "      <th>pixel32</th>\n",
       "      <th>pixel33</th>\n",
       "      <th>pixel34</th>\n",
       "      <th>pixel35</th>\n",
       "      <th>pixel36</th>\n",
       "      <th>pixel37</th>\n",
       "      <th>pixel38</th>\n",
       "      <th>pixel39</th>\n",
       "      <th>...</th>\n",
       "      <th>pixel744</th>\n",
       "      <th>pixel745</th>\n",
       "      <th>pixel746</th>\n",
       "      <th>pixel747</th>\n",
       "      <th>pixel748</th>\n",
       "      <th>pixel749</th>\n",
       "      <th>pixel750</th>\n",
       "      <th>pixel751</th>\n",
       "      <th>pixel752</th>\n",
       "      <th>pixel753</th>\n",
       "      <th>pixel754</th>\n",
       "      <th>pixel755</th>\n",
       "      <th>pixel756</th>\n",
       "      <th>pixel757</th>\n",
       "      <th>pixel758</th>\n",
       "      <th>pixel759</th>\n",
       "      <th>pixel760</th>\n",
       "      <th>pixel761</th>\n",
       "      <th>pixel762</th>\n",
       "      <th>pixel763</th>\n",
       "      <th>pixel764</th>\n",
       "      <th>pixel765</th>\n",
       "      <th>pixel766</th>\n",
       "      <th>pixel767</th>\n",
       "      <th>pixel768</th>\n",
       "      <th>pixel769</th>\n",
       "      <th>pixel770</th>\n",
       "      <th>pixel771</th>\n",
       "      <th>pixel772</th>\n",
       "      <th>pixel773</th>\n",
       "      <th>pixel774</th>\n",
       "      <th>pixel775</th>\n",
       "      <th>pixel776</th>\n",
       "      <th>pixel777</th>\n",
       "      <th>pixel778</th>\n",
       "      <th>pixel779</th>\n",
       "      <th>pixel780</th>\n",
       "      <th>pixel781</th>\n",
       "      <th>pixel782</th>\n",
       "      <th>pixel783</th>\n",
       "    </tr>\n",
       "  </thead>\n",
       "  <tbody>\n",
       "    <tr>\n",
       "      <th>0</th>\n",
       "      <td>0.0</td>\n",
       "      <td>0.0</td>\n",
       "      <td>0.0</td>\n",
       "      <td>0.0</td>\n",
       "      <td>0.0</td>\n",
       "      <td>0.0</td>\n",
       "      <td>0.0</td>\n",
       "      <td>0.0</td>\n",
       "      <td>0.0</td>\n",
       "      <td>0.0</td>\n",
       "      <td>0.0</td>\n",
       "      <td>0.0</td>\n",
       "      <td>0.0</td>\n",
       "      <td>0.0</td>\n",
       "      <td>0.0</td>\n",
       "      <td>0.0</td>\n",
       "      <td>0.0</td>\n",
       "      <td>0.0</td>\n",
       "      <td>0.0</td>\n",
       "      <td>0.0</td>\n",
       "      <td>0.0</td>\n",
       "      <td>0.0</td>\n",
       "      <td>0.0</td>\n",
       "      <td>0.0</td>\n",
       "      <td>0.0</td>\n",
       "      <td>0.0</td>\n",
       "      <td>0.0</td>\n",
       "      <td>0.0</td>\n",
       "      <td>0.0</td>\n",
       "      <td>0.0</td>\n",
       "      <td>0.0</td>\n",
       "      <td>0.0</td>\n",
       "      <td>0.0</td>\n",
       "      <td>0.0</td>\n",
       "      <td>0.0</td>\n",
       "      <td>0.0</td>\n",
       "      <td>0.0</td>\n",
       "      <td>0.0</td>\n",
       "      <td>0.0</td>\n",
       "      <td>0.0</td>\n",
       "      <td>...</td>\n",
       "      <td>0.0</td>\n",
       "      <td>0.0</td>\n",
       "      <td>0.0</td>\n",
       "      <td>0.0</td>\n",
       "      <td>0.0</td>\n",
       "      <td>0.0</td>\n",
       "      <td>0.0</td>\n",
       "      <td>0.0</td>\n",
       "      <td>0.0</td>\n",
       "      <td>0.0</td>\n",
       "      <td>0.0</td>\n",
       "      <td>0.0</td>\n",
       "      <td>0.0</td>\n",
       "      <td>0.0</td>\n",
       "      <td>0.0</td>\n",
       "      <td>0.0</td>\n",
       "      <td>0.0</td>\n",
       "      <td>0.0</td>\n",
       "      <td>0.0</td>\n",
       "      <td>0.0</td>\n",
       "      <td>0.0</td>\n",
       "      <td>0.0</td>\n",
       "      <td>0.0</td>\n",
       "      <td>0.0</td>\n",
       "      <td>0.0</td>\n",
       "      <td>0.0</td>\n",
       "      <td>0.0</td>\n",
       "      <td>0.0</td>\n",
       "      <td>0.0</td>\n",
       "      <td>0.0</td>\n",
       "      <td>0.0</td>\n",
       "      <td>0.0</td>\n",
       "      <td>0.0</td>\n",
       "      <td>0.0</td>\n",
       "      <td>0.0</td>\n",
       "      <td>0.0</td>\n",
       "      <td>0.0</td>\n",
       "      <td>0.0</td>\n",
       "      <td>0.0</td>\n",
       "      <td>0.0</td>\n",
       "    </tr>\n",
       "    <tr>\n",
       "      <th>1</th>\n",
       "      <td>0.0</td>\n",
       "      <td>0.0</td>\n",
       "      <td>0.0</td>\n",
       "      <td>0.0</td>\n",
       "      <td>0.0</td>\n",
       "      <td>0.0</td>\n",
       "      <td>0.0</td>\n",
       "      <td>0.0</td>\n",
       "      <td>0.0</td>\n",
       "      <td>0.0</td>\n",
       "      <td>0.0</td>\n",
       "      <td>0.0</td>\n",
       "      <td>0.0</td>\n",
       "      <td>0.0</td>\n",
       "      <td>0.0</td>\n",
       "      <td>0.0</td>\n",
       "      <td>0.0</td>\n",
       "      <td>0.0</td>\n",
       "      <td>0.0</td>\n",
       "      <td>0.0</td>\n",
       "      <td>0.0</td>\n",
       "      <td>0.0</td>\n",
       "      <td>0.0</td>\n",
       "      <td>0.0</td>\n",
       "      <td>0.0</td>\n",
       "      <td>0.0</td>\n",
       "      <td>0.0</td>\n",
       "      <td>0.0</td>\n",
       "      <td>0.0</td>\n",
       "      <td>0.0</td>\n",
       "      <td>0.0</td>\n",
       "      <td>0.0</td>\n",
       "      <td>0.0</td>\n",
       "      <td>0.0</td>\n",
       "      <td>0.0</td>\n",
       "      <td>0.0</td>\n",
       "      <td>0.0</td>\n",
       "      <td>0.0</td>\n",
       "      <td>0.0</td>\n",
       "      <td>0.0</td>\n",
       "      <td>...</td>\n",
       "      <td>0.0</td>\n",
       "      <td>0.0</td>\n",
       "      <td>0.0</td>\n",
       "      <td>0.0</td>\n",
       "      <td>0.0</td>\n",
       "      <td>0.0</td>\n",
       "      <td>0.0</td>\n",
       "      <td>0.0</td>\n",
       "      <td>0.0</td>\n",
       "      <td>0.0</td>\n",
       "      <td>0.0</td>\n",
       "      <td>0.0</td>\n",
       "      <td>0.0</td>\n",
       "      <td>0.0</td>\n",
       "      <td>0.0</td>\n",
       "      <td>0.0</td>\n",
       "      <td>0.0</td>\n",
       "      <td>0.0</td>\n",
       "      <td>0.0</td>\n",
       "      <td>0.0</td>\n",
       "      <td>0.0</td>\n",
       "      <td>0.0</td>\n",
       "      <td>0.0</td>\n",
       "      <td>0.0</td>\n",
       "      <td>0.0</td>\n",
       "      <td>0.0</td>\n",
       "      <td>0.0</td>\n",
       "      <td>0.0</td>\n",
       "      <td>0.0</td>\n",
       "      <td>0.0</td>\n",
       "      <td>0.0</td>\n",
       "      <td>0.0</td>\n",
       "      <td>0.0</td>\n",
       "      <td>0.0</td>\n",
       "      <td>0.0</td>\n",
       "      <td>0.0</td>\n",
       "      <td>0.0</td>\n",
       "      <td>0.0</td>\n",
       "      <td>0.0</td>\n",
       "      <td>0.0</td>\n",
       "    </tr>\n",
       "    <tr>\n",
       "      <th>2</th>\n",
       "      <td>0.0</td>\n",
       "      <td>0.0</td>\n",
       "      <td>0.0</td>\n",
       "      <td>0.0</td>\n",
       "      <td>0.0</td>\n",
       "      <td>0.0</td>\n",
       "      <td>0.0</td>\n",
       "      <td>0.0</td>\n",
       "      <td>0.0</td>\n",
       "      <td>0.0</td>\n",
       "      <td>0.0</td>\n",
       "      <td>0.0</td>\n",
       "      <td>0.0</td>\n",
       "      <td>0.0</td>\n",
       "      <td>0.0</td>\n",
       "      <td>0.0</td>\n",
       "      <td>0.0</td>\n",
       "      <td>0.0</td>\n",
       "      <td>0.0</td>\n",
       "      <td>0.0</td>\n",
       "      <td>0.0</td>\n",
       "      <td>0.0</td>\n",
       "      <td>0.0</td>\n",
       "      <td>0.0</td>\n",
       "      <td>0.0</td>\n",
       "      <td>0.0</td>\n",
       "      <td>0.0</td>\n",
       "      <td>0.0</td>\n",
       "      <td>0.0</td>\n",
       "      <td>0.0</td>\n",
       "      <td>0.0</td>\n",
       "      <td>0.0</td>\n",
       "      <td>0.0</td>\n",
       "      <td>0.0</td>\n",
       "      <td>0.0</td>\n",
       "      <td>0.0</td>\n",
       "      <td>0.0</td>\n",
       "      <td>0.0</td>\n",
       "      <td>0.0</td>\n",
       "      <td>0.0</td>\n",
       "      <td>...</td>\n",
       "      <td>0.0</td>\n",
       "      <td>0.0</td>\n",
       "      <td>0.0</td>\n",
       "      <td>0.0</td>\n",
       "      <td>0.0</td>\n",
       "      <td>0.0</td>\n",
       "      <td>0.0</td>\n",
       "      <td>0.0</td>\n",
       "      <td>0.0</td>\n",
       "      <td>0.0</td>\n",
       "      <td>0.0</td>\n",
       "      <td>0.0</td>\n",
       "      <td>0.0</td>\n",
       "      <td>0.0</td>\n",
       "      <td>0.0</td>\n",
       "      <td>0.0</td>\n",
       "      <td>0.0</td>\n",
       "      <td>0.0</td>\n",
       "      <td>0.0</td>\n",
       "      <td>0.0</td>\n",
       "      <td>0.0</td>\n",
       "      <td>0.0</td>\n",
       "      <td>0.0</td>\n",
       "      <td>0.0</td>\n",
       "      <td>0.0</td>\n",
       "      <td>0.0</td>\n",
       "      <td>0.0</td>\n",
       "      <td>0.0</td>\n",
       "      <td>0.0</td>\n",
       "      <td>0.0</td>\n",
       "      <td>0.0</td>\n",
       "      <td>0.0</td>\n",
       "      <td>0.0</td>\n",
       "      <td>0.0</td>\n",
       "      <td>0.0</td>\n",
       "      <td>0.0</td>\n",
       "      <td>0.0</td>\n",
       "      <td>0.0</td>\n",
       "      <td>0.0</td>\n",
       "      <td>0.0</td>\n",
       "    </tr>\n",
       "    <tr>\n",
       "      <th>3</th>\n",
       "      <td>0.0</td>\n",
       "      <td>0.0</td>\n",
       "      <td>0.0</td>\n",
       "      <td>0.0</td>\n",
       "      <td>0.0</td>\n",
       "      <td>0.0</td>\n",
       "      <td>0.0</td>\n",
       "      <td>0.0</td>\n",
       "      <td>0.0</td>\n",
       "      <td>0.0</td>\n",
       "      <td>0.0</td>\n",
       "      <td>0.0</td>\n",
       "      <td>0.0</td>\n",
       "      <td>0.0</td>\n",
       "      <td>0.0</td>\n",
       "      <td>0.0</td>\n",
       "      <td>0.0</td>\n",
       "      <td>0.0</td>\n",
       "      <td>0.0</td>\n",
       "      <td>0.0</td>\n",
       "      <td>0.0</td>\n",
       "      <td>0.0</td>\n",
       "      <td>0.0</td>\n",
       "      <td>0.0</td>\n",
       "      <td>0.0</td>\n",
       "      <td>0.0</td>\n",
       "      <td>0.0</td>\n",
       "      <td>0.0</td>\n",
       "      <td>0.0</td>\n",
       "      <td>0.0</td>\n",
       "      <td>0.0</td>\n",
       "      <td>0.0</td>\n",
       "      <td>0.0</td>\n",
       "      <td>0.0</td>\n",
       "      <td>0.0</td>\n",
       "      <td>0.0</td>\n",
       "      <td>0.0</td>\n",
       "      <td>0.0</td>\n",
       "      <td>0.0</td>\n",
       "      <td>0.0</td>\n",
       "      <td>...</td>\n",
       "      <td>0.0</td>\n",
       "      <td>0.0</td>\n",
       "      <td>0.0</td>\n",
       "      <td>0.0</td>\n",
       "      <td>0.0</td>\n",
       "      <td>0.0</td>\n",
       "      <td>0.0</td>\n",
       "      <td>0.0</td>\n",
       "      <td>0.0</td>\n",
       "      <td>0.0</td>\n",
       "      <td>0.0</td>\n",
       "      <td>0.0</td>\n",
       "      <td>0.0</td>\n",
       "      <td>0.0</td>\n",
       "      <td>0.0</td>\n",
       "      <td>0.0</td>\n",
       "      <td>0.0</td>\n",
       "      <td>0.0</td>\n",
       "      <td>0.0</td>\n",
       "      <td>0.0</td>\n",
       "      <td>0.0</td>\n",
       "      <td>0.0</td>\n",
       "      <td>0.0</td>\n",
       "      <td>0.0</td>\n",
       "      <td>0.0</td>\n",
       "      <td>0.0</td>\n",
       "      <td>0.0</td>\n",
       "      <td>0.0</td>\n",
       "      <td>0.0</td>\n",
       "      <td>0.0</td>\n",
       "      <td>0.0</td>\n",
       "      <td>0.0</td>\n",
       "      <td>0.0</td>\n",
       "      <td>0.0</td>\n",
       "      <td>0.0</td>\n",
       "      <td>0.0</td>\n",
       "      <td>0.0</td>\n",
       "      <td>0.0</td>\n",
       "      <td>0.0</td>\n",
       "      <td>0.0</td>\n",
       "    </tr>\n",
       "    <tr>\n",
       "      <th>4</th>\n",
       "      <td>0.0</td>\n",
       "      <td>0.0</td>\n",
       "      <td>0.0</td>\n",
       "      <td>0.0</td>\n",
       "      <td>0.0</td>\n",
       "      <td>0.0</td>\n",
       "      <td>0.0</td>\n",
       "      <td>0.0</td>\n",
       "      <td>0.0</td>\n",
       "      <td>0.0</td>\n",
       "      <td>0.0</td>\n",
       "      <td>0.0</td>\n",
       "      <td>0.0</td>\n",
       "      <td>0.0</td>\n",
       "      <td>0.0</td>\n",
       "      <td>0.0</td>\n",
       "      <td>0.0</td>\n",
       "      <td>0.0</td>\n",
       "      <td>0.0</td>\n",
       "      <td>0.0</td>\n",
       "      <td>0.0</td>\n",
       "      <td>0.0</td>\n",
       "      <td>0.0</td>\n",
       "      <td>0.0</td>\n",
       "      <td>0.0</td>\n",
       "      <td>0.0</td>\n",
       "      <td>0.0</td>\n",
       "      <td>0.0</td>\n",
       "      <td>0.0</td>\n",
       "      <td>0.0</td>\n",
       "      <td>0.0</td>\n",
       "      <td>0.0</td>\n",
       "      <td>0.0</td>\n",
       "      <td>0.0</td>\n",
       "      <td>0.0</td>\n",
       "      <td>0.0</td>\n",
       "      <td>0.0</td>\n",
       "      <td>0.0</td>\n",
       "      <td>0.0</td>\n",
       "      <td>0.0</td>\n",
       "      <td>...</td>\n",
       "      <td>0.0</td>\n",
       "      <td>0.0</td>\n",
       "      <td>0.0</td>\n",
       "      <td>0.0</td>\n",
       "      <td>0.0</td>\n",
       "      <td>0.0</td>\n",
       "      <td>0.0</td>\n",
       "      <td>0.0</td>\n",
       "      <td>0.0</td>\n",
       "      <td>0.0</td>\n",
       "      <td>0.0</td>\n",
       "      <td>0.0</td>\n",
       "      <td>0.0</td>\n",
       "      <td>0.0</td>\n",
       "      <td>0.0</td>\n",
       "      <td>0.0</td>\n",
       "      <td>0.0</td>\n",
       "      <td>0.0</td>\n",
       "      <td>0.0</td>\n",
       "      <td>0.0</td>\n",
       "      <td>0.0</td>\n",
       "      <td>0.0</td>\n",
       "      <td>0.0</td>\n",
       "      <td>0.0</td>\n",
       "      <td>0.0</td>\n",
       "      <td>0.0</td>\n",
       "      <td>0.0</td>\n",
       "      <td>0.0</td>\n",
       "      <td>0.0</td>\n",
       "      <td>0.0</td>\n",
       "      <td>0.0</td>\n",
       "      <td>0.0</td>\n",
       "      <td>0.0</td>\n",
       "      <td>0.0</td>\n",
       "      <td>0.0</td>\n",
       "      <td>0.0</td>\n",
       "      <td>0.0</td>\n",
       "      <td>0.0</td>\n",
       "      <td>0.0</td>\n",
       "      <td>0.0</td>\n",
       "    </tr>\n",
       "  </tbody>\n",
       "</table>\n",
       "</div>"
      ],
      "text/plain": [
       "   pixel0  pixel1  pixel2    ...     pixel781  pixel782  pixel783\n",
       "0     0.0     0.0     0.0    ...          0.0       0.0       0.0\n",
       "1     0.0     0.0     0.0    ...          0.0       0.0       0.0\n",
       "2     0.0     0.0     0.0    ...          0.0       0.0       0.0\n",
       "3     0.0     0.0     0.0    ...          0.0       0.0       0.0\n",
       "4     0.0     0.0     0.0    ...          0.0       0.0       0.0\n",
       "\n",
       "[5 rows x 784 columns]"
      ]
     },
     "execution_count": 7,
     "metadata": {},
     "output_type": "execute_result"
    }
   ],
   "source": [
    "X.iloc[0:5,:]\n"
   ]
  },
  {
   "cell_type": "code",
   "execution_count": 8,
   "metadata": {},
   "outputs": [
    {
     "data": {
      "text/plain": [
       "0    1\n",
       "1    0\n",
       "2    1\n",
       "3    4\n",
       "4    0\n",
       "5    0\n",
       "6    7\n",
       "7    3\n",
       "8    5\n",
       "9    3\n",
       "Name: label, dtype: int64"
      ]
     },
     "execution_count": 8,
     "metadata": {},
     "output_type": "execute_result"
    }
   ],
   "source": [
    "y.iloc[0:10]"
   ]
  },
  {
   "cell_type": "code",
   "execution_count": 9,
   "metadata": {},
   "outputs": [
    {
     "data": {
      "image/png": "[encoded data removed]",
      "text/plain": [
       "<Figure size 720x720 with 10 Axes>"
      ]
     },
     "metadata": {},
     "output_type": "display_data"
    }
   ],
   "source": [
    "fig, axs = plt.subplots(1, 10,sharex=True, sharey=True, figsize=(10,10))\n",
    "axs = axs.flatten()\n",
    "for i in range(0,10):\n",
    "    im = X.iloc[i]\n",
    "    im = im.values.reshape(-1,28,28,1)\n",
    "    axs[i].imshow(im[0,:,:,0], cmap=plt.get_cmap('gray'),interpolation='nearest')\n",
    "    axs[i].set_title(y[i])\n",
    "plt.tight_layout()    \n"
   ]
  },
  {
   "cell_type": "code",
   "execution_count": 10,
   "metadata": {},
   "outputs": [
    {
     "data": {
      "text/plain": [
       "1    4684\n",
       "7    4401\n",
       "3    4351\n",
       "9    4188\n",
       "2    4177\n",
       "6    4137\n",
       "0    4132\n",
       "4    4072\n",
       "8    4063\n",
       "5    3795\n",
       "Name: label, dtype: int64"
      ]
     },
     "execution_count": 10,
     "metadata": {},
     "output_type": "execute_result"
    }
   ],
   "source": [
    "y.value_counts()"
   ]
  },
  {
   "cell_type": "code",
   "execution_count": 11,
   "metadata": {},
   "outputs": [
    {
     "data": {
      "image/png": "[encoded data removed]",
      "text/plain": [
       "<Figure size 1008x576 with 1 Axes>"
      ]
     },
     "metadata": {},
     "output_type": "display_data"
    }
   ],
   "source": [
    "fig,ax=plt.subplots(figsize=(14,8))\n",
    "g=sns.countplot(y)"
   ]
  },
  {
   "cell_type": "code",
   "execution_count": 12,
   "metadata": {},
   "outputs": [],
   "source": [
    "def get_best_score(model):\n",
    "    \n",
    "    print(model.best_score_)    \n",
    "    print(model.best_params_)\n",
    "    print(model.best_estimator_)\n",
    "    \n",
    "    return model.best_score_"
   ]
  },
  {
   "cell_type": "code",
   "execution_count": 13,
   "metadata": {},
   "outputs": [
    {
     "name": "stdout",
     "output_type": "stream",
     "text": [
      "Fitting 5 folds for each of 4 candidates, totalling 20 fits\n"
     ]
    },
    {
     "name": "stderr",
     "output_type": "stream",
     "text": [
      "[Parallel(n_jobs=1)]: Using backend SequentialBackend with 1 concurrent workers.\n",
      "[Parallel(n_jobs=1)]: Done  20 out of  20 | elapsed:  2.1min finished\n"
     ]
    },
    {
     "name": "stdout",
     "output_type": "stream",
     "text": [
      "0.8588\n",
      "{'penalty': 'l1', 'tol': 0.1}\n",
      "Perceptron(alpha=0.0001, class_weight=None, early_stopping=False, eta0=1.0,\n",
      "      fit_intercept=True, max_iter=None, n_iter=None, n_iter_no_change=5,\n",
      "      n_jobs=None, penalty='l1', random_state=0, shuffle=True, tol=0.1,\n",
      "      validation_fraction=0.1, verbose=0, warm_start=False)\n"
     ]
    }
   ],
   "source": [
    "from sklearn.linear_model import Perceptron\n",
    "clf_Perceptron = Perceptron(random_state=0)\n",
    "param_grid = { 'penalty': ['l1','l2'], 'tol': [0.05, 0.1] }\n",
    "GridCV_Perceptron = GridSearchCV(clf_Perceptron, param_grid, verbose=1, cv=5)\n",
    "GridCV_Perceptron.fit(X_train,y_train)\n",
    "score_grid_Perceptron = get_best_score(GridCV_Perceptron)"
   ]
  },
  {
   "cell_type": "code",
   "execution_count": 14,
   "metadata": {},
   "outputs": [],
   "source": [
    "def print_validation_report(y_true, y_pred):\n",
    "    print(\"Classification Report\")\n",
    "    print(classification_report(y_true, y_pred))\n",
    "    acc_sc = accuracy_score(y_true, y_pred)\n",
    "    print(\"Accuracy : \"+ str(acc_sc))\n",
    "    \n",
    "    return acc_sc"
   ]
  },
  {
   "cell_type": "code",
   "execution_count": 15,
   "metadata": {},
   "outputs": [
    {
     "name": "stdout",
     "output_type": "stream",
     "text": [
      "Classification Report\n",
      "              precision    recall  f1-score   support\n",
      "\n",
      "           0       0.93      0.97      0.95       998\n",
      "           1       0.92      0.95      0.94      1127\n",
      "           2       0.81      0.88      0.85       967\n",
      "           3       0.82      0.88      0.85      1060\n",
      "           4       0.88      0.91      0.90       914\n",
      "           5       0.92      0.70      0.79       914\n",
      "           6       0.97      0.85      0.91       951\n",
      "           7       0.94      0.86      0.90      1066\n",
      "           8       0.81      0.84      0.82       995\n",
      "           9       0.79      0.90      0.84      1008\n",
      "\n",
      "   micro avg       0.88      0.88      0.88     10000\n",
      "   macro avg       0.88      0.87      0.87     10000\n",
      "weighted avg       0.88      0.88      0.88     10000\n",
      "\n",
      "Accuracy : 0.8763\n"
     ]
    }
   ],
   "source": [
    "pred_val_perc= GridCV_Perceptron.predict(X_val)\n",
    "acc_perc = print_validation_report(y_val, pred_val_perc)"
   ]
  },
  {
   "cell_type": "code",
   "execution_count": 16,
   "metadata": {},
   "outputs": [
    {
     "data": {
      "image/png": "[encoded data removed]",
      "text/plain": [
       "<Figure size 1008x576 with 1 Axes>"
      ]
     },
     "metadata": {},
     "output_type": "display_data"
    }
   ],
   "source": [
    "fig,ax=plt.subplots(figsize=(14,8))\n",
    "g=sns.countplot(pred_val_perc)"
   ]
  },
  {
   "cell_type": "code",
   "execution_count": 17,
   "metadata": {},
   "outputs": [],
   "source": [
    "def plot_confusion_matrix(y_true, y_pred):\n",
    "    mtx = confusion_matrix(y_true, y_pred)\n",
    "    fig, ax = plt.subplots(figsize=(8,8))\n",
    "    sns.heatmap(mtx, annot=True, fmt='d', linewidths=.5,  cbar=False, ax=ax)\n",
    "    #  square=True,\n",
    "    plt.ylabel('true label')\n",
    "    plt.xlabel('predicted label')"
   ]
  },
  {
   "cell_type": "code",
   "execution_count": 18,
   "metadata": {},
   "outputs": [
    {
     "data": {
      "image/png": "[encoded data removed]",
      "text/plain": [
       "<Figure size 576x576 with 1 Axes>"
      ]
     },
     "metadata": {},
     "output_type": "display_data"
    }
   ],
   "source": [
    "plot_confusion_matrix(y_val, pred_val_perc)"
   ]
  },
  {
   "cell_type": "code",
   "execution_count": 19,
   "metadata": {},
   "outputs": [
    {
     "name": "stdout",
     "output_type": "stream",
     "text": [
      "Fitting 5 folds for each of 2 candidates, totalling 10 fits\n"
     ]
    },
    {
     "name": "stderr",
     "output_type": "stream",
     "text": [
      "[Parallel(n_jobs=1)]: Using backend SequentialBackend with 1 concurrent workers.\n",
      "[Parallel(n_jobs=1)]: Done  10 out of  10 | elapsed:  1.0min finished\n"
     ]
    },
    {
     "name": "stdout",
     "output_type": "stream",
     "text": [
      "0.8724\n",
      "{'C': 0.014, 'multi_class': 'multinomial', 'penalty': 'l1', 'solver': 'saga', 'tol': 0.1}\n",
      "LogisticRegression(C=0.014, class_weight=None, dual=False, fit_intercept=True,\n",
      "          intercept_scaling=1, max_iter=100, multi_class='multinomial',\n",
      "          n_jobs=None, penalty='l1', random_state=0, solver='saga',\n",
      "          tol=0.1, verbose=0, warm_start=False)\n"
     ]
    }
   ],
   "source": [
    "from sklearn.linear_model import LogisticRegression\n",
    "clf_LR = LogisticRegression(random_state=0)\n",
    "param_grid = {'C': [0.014,0.012], 'multi_class': ['multinomial'],  \n",
    "              'penalty': ['l1'],'solver': ['saga'], 'tol': [0.1] }\n",
    "GridCV_LR = GridSearchCV(clf_LR, param_grid, verbose=1, cv=5)\n",
    "GridCV_LR.fit(X_train,y_train)\n",
    "score_grid_LR = get_best_score(GridCV_LR)"
   ]
  },
  {
   "cell_type": "code",
   "execution_count": 20,
   "metadata": {},
   "outputs": [
    {
     "name": "stdout",
     "output_type": "stream",
     "text": [
      "Classification Report\n",
      "              precision    recall  f1-score   support\n",
      "\n",
      "           0       0.92      0.95      0.94       998\n",
      "           1       0.87      0.98      0.92      1127\n",
      "           2       0.88      0.87      0.88       967\n",
      "           3       0.87      0.84      0.86      1060\n",
      "           4       0.86      0.90      0.88       914\n",
      "           5       0.84      0.79      0.82       914\n",
      "           6       0.90      0.92      0.91       951\n",
      "           7       0.90      0.89      0.90      1066\n",
      "           8       0.89      0.80      0.84       995\n",
      "           9       0.84      0.83      0.83      1008\n",
      "\n",
      "   micro avg       0.88      0.88      0.88     10000\n",
      "   macro avg       0.88      0.88      0.88     10000\n",
      "weighted avg       0.88      0.88      0.88     10000\n",
      "\n",
      "Accuracy : 0.8785\n"
     ]
    }
   ],
   "source": [
    "pred_val_lr = GridCV_LR.predict(X_val)\n",
    "acc_lr = print_validation_report(y_val, pred_val_lr)"
   ]
  },
  {
   "cell_type": "code",
   "execution_count": 21,
   "metadata": {},
   "outputs": [
    {
     "data": {
      "image/png": "[encoded data removed]",
      "text/plain": [
       "<Figure size 576x576 with 1 Axes>"
      ]
     },
     "metadata": {},
     "output_type": "display_data"
    }
   ],
   "source": [
    "plot_confusion_matrix(y_val, pred_val_lr)"
   ]
  },
  {
   "cell_type": "code",
   "execution_count": 22,
   "metadata": {},
   "outputs": [
    {
     "data": {
      "text/plain": [
       "KNeighborsClassifier(algorithm='auto', leaf_size=30, metric='minkowski',\n",
       "           metric_params=None, n_jobs=None, n_neighbors=10, p=2,\n",
       "           weights='uniform')"
      ]
     },
     "execution_count": 22,
     "metadata": {},
     "output_type": "execute_result"
    }
   ],
   "source": [
    "from sklearn.neighbors import KNeighborsClassifier\n",
    "clf_knn = KNeighborsClassifier(n_neighbors=10)\n",
    "clf_knn.fit(X_train,y_train)"
   ]
  },
  {
   "cell_type": "code",
   "execution_count": 23,
   "metadata": {},
   "outputs": [
    {
     "name": "stdout",
     "output_type": "stream",
     "text": [
      "Classification Report\n",
      "              precision    recall  f1-score   support\n",
      "\n",
      "           0       0.97      0.99      0.98       998\n",
      "           1       0.93      1.00      0.96      1127\n",
      "           2       0.98      0.95      0.97       967\n",
      "           3       0.97      0.96      0.97      1060\n",
      "           4       0.98      0.96      0.97       914\n",
      "           5       0.96      0.96      0.96       914\n",
      "           6       0.97      0.99      0.98       951\n",
      "           7       0.95      0.97      0.96      1066\n",
      "           8       0.99      0.92      0.95       995\n",
      "           9       0.95      0.94      0.94      1008\n",
      "\n",
      "   micro avg       0.96      0.96      0.96     10000\n",
      "   macro avg       0.97      0.96      0.96     10000\n",
      "weighted avg       0.96      0.96      0.96     10000\n",
      "\n",
      "Accuracy : 0.9638\n"
     ]
    }
   ],
   "source": [
    "pred_val_knn = clf_knn.predict(X_val)\n",
    "acc_knn = print_validation_report(y_val, pred_val_knn)"
   ]
  },
  {
   "cell_type": "code",
   "execution_count": 24,
   "metadata": {},
   "outputs": [
    {
     "data": {
      "image/png": "[encoded data removed]",
      "text/plain": [
       "<Figure size 576x576 with 1 Axes>"
      ]
     },
     "metadata": {},
     "output_type": "display_data"
    }
   ],
   "source": [
    "plot_confusion_matrix(y_val, pred_val_knn)"
   ]
  },
  {
   "cell_type": "code",
   "execution_count": 25,
   "metadata": {},
   "outputs": [
    {
     "name": "stdout",
     "output_type": "stream",
     "text": [
      "Fitting 5 folds for each of 1 candidates, totalling 5 fits\n"
     ]
    },
    {
     "name": "stderr",
     "output_type": "stream",
     "text": [
      "[Parallel(n_jobs=1)]: Using backend SequentialBackend with 1 concurrent workers.\n",
      "[Parallel(n_jobs=1)]: Done   5 out of   5 | elapsed:  1.9min finished\n"
     ]
    },
    {
     "name": "stdout",
     "output_type": "stream",
     "text": [
      "0.9543666666666667\n",
      "{'max_depth': 15, 'max_features': 100, 'min_samples_split': 5, 'n_estimators': 50}\n",
      "RandomForestClassifier(bootstrap=True, class_weight=None, criterion='gini',\n",
      "            max_depth=15, max_features=100, max_leaf_nodes=None,\n",
      "            min_impurity_decrease=0.0, min_impurity_split=None,\n",
      "            min_samples_leaf=1, min_samples_split=5,\n",
      "            min_weight_fraction_leaf=0.0, n_estimators=50, n_jobs=None,\n",
      "            oob_score=False, random_state=0, verbose=0, warm_start=False)\n"
     ]
    }
   ],
   "source": [
    "from sklearn.ensemble import RandomForestClassifier\n",
    "clf_RF = RandomForestClassifier(random_state=0)\n",
    "param_grid = {'max_depth': [15], 'max_features': [100],  \n",
    "              'min_samples_split': [5],'n_estimators' : [50] }\n",
    "GridCV_RF = GridSearchCV(clf_RF, param_grid, verbose=1, cv=5)\n",
    "GridCV_RF.fit(X_train,y_train)\n",
    "score_grid_RF = get_best_score(GridCV_RF)"
   ]
  },
  {
   "cell_type": "code",
   "execution_count": 26,
   "metadata": {},
   "outputs": [],
   "source": [
    "pred_val_rf = GridCV_RF.predict(X_val)"
   ]
  },
  {
   "cell_type": "code",
   "execution_count": 27,
   "metadata": {},
   "outputs": [
    {
     "name": "stdout",
     "output_type": "stream",
     "text": [
      "Classification Report\n",
      "              precision    recall  f1-score   support\n",
      "\n",
      "           0       0.97      0.98      0.98       998\n",
      "           1       0.97      0.99      0.98      1127\n",
      "           2       0.95      0.97      0.96       967\n",
      "           3       0.96      0.93      0.94      1060\n",
      "           4       0.96      0.96      0.96       914\n",
      "           5       0.97      0.96      0.96       914\n",
      "           6       0.97      0.97      0.97       951\n",
      "           7       0.96      0.96      0.96      1066\n",
      "           8       0.95      0.95      0.95       995\n",
      "           9       0.93      0.93      0.93      1008\n",
      "\n",
      "   micro avg       0.96      0.96      0.96     10000\n",
      "   macro avg       0.96      0.96      0.96     10000\n",
      "weighted avg       0.96      0.96      0.96     10000\n",
      "\n",
      "Accuracy : 0.9596\n"
     ]
    }
   ],
   "source": [
    "acc_rf = print_validation_report(y_val, pred_val_rf)"
   ]
  },
  {
   "cell_type": "code",
   "execution_count": 28,
   "metadata": {},
   "outputs": [
    {
     "data": {
      "image/png": "[encoded data removed]",
      "text/plain": [
       "<Figure size 576x576 with 1 Axes>"
      ]
     },
     "metadata": {},
     "output_type": "display_data"
    }
   ],
   "source": [
    "plot_confusion_matrix(y_val, pred_val_rf)"
   ]
  },
  {
   "cell_type": "code",
   "execution_count": 29,
   "metadata": {},
   "outputs": [
    {
     "data": {
      "text/plain": [
       "SVC(C=5, cache_size=200, class_weight=None, coef0=0.0,\n",
       "  decision_function_shape='ovr', degree=3, gamma=0.05, kernel='rbf',\n",
       "  max_iter=-1, probability=False, random_state=0, shrinking=True,\n",
       "  tol=0.001, verbose=False)"
      ]
     },
     "execution_count": 29,
     "metadata": {},
     "output_type": "execute_result"
    }
   ],
   "source": [
    "from sklearn.svm import SVC\n",
    "clf_svm = SVC(C=5, gamma=0.05, kernel='rbf', random_state=0)\n",
    "clf_svm.fit(X_train,y_train)"
   ]
  },
  {
   "cell_type": "code",
   "execution_count": 30,
   "metadata": {},
   "outputs": [
    {
     "name": "stdout",
     "output_type": "stream",
     "text": [
      "Classification Report\n",
      "              precision    recall  f1-score   support\n",
      "\n",
      "           0       0.98      0.99      0.99       998\n",
      "           1       0.99      0.99      0.99      1127\n",
      "           2       0.97      0.99      0.98       967\n",
      "           3       0.98      0.97      0.98      1060\n",
      "           4       0.98      0.97      0.98       914\n",
      "           5       0.98      0.98      0.98       914\n",
      "           6       0.99      0.99      0.99       951\n",
      "           7       0.98      0.98      0.98      1066\n",
      "           8       0.98      0.98      0.98       995\n",
      "           9       0.98      0.96      0.97      1008\n",
      "\n",
      "   micro avg       0.98      0.98      0.98     10000\n",
      "   macro avg       0.98      0.98      0.98     10000\n",
      "weighted avg       0.98      0.98      0.98     10000\n",
      "\n",
      "Accuracy : 0.9808\n"
     ]
    }
   ],
   "source": [
    "pred_val_svm = clf_svm.predict(X_val)\n",
    "acc_svm = print_validation_report(y_val, pred_val_svm)"
   ]
  },
  {
   "cell_type": "code",
   "execution_count": 31,
   "metadata": {},
   "outputs": [
    {
     "data": {
      "image/png": "[encoded data removed]",
      "text/plain": [
       "<Figure size 576x576 with 1 Axes>"
      ]
     },
     "metadata": {},
     "output_type": "display_data"
    }
   ],
   "source": [
    "plot_confusion_matrix(y_val, pred_val_svm)"
   ]
  },
  {
   "cell_type": "code",
   "execution_count": 32,
   "metadata": {},
   "outputs": [],
   "source": [
    "batchsize = int(nr_samples/15) "
   ]
  },
  {
   "cell_type": "code",
   "execution_count": 33,
   "metadata": {},
   "outputs": [
    {
     "name": "stdout",
     "output_type": "stream",
     "text": [
      "Fitting 3 folds for each of 2 candidates, totalling 6 fits\n"
     ]
    },
    {
     "name": "stderr",
     "output_type": "stream",
     "text": [
      "[Parallel(n_jobs=1)]: Using backend SequentialBackend with 1 concurrent workers.\n",
      "[Parallel(n_jobs=1)]: Done   6 out of   6 | elapsed: 31.8min finished\n"
     ]
    },
    {
     "name": "stdout",
     "output_type": "stream",
     "text": [
      "0.9497\n",
      "{'alpha': 0.0001, 'batch_size': 2000, 'learning_rate_init': 0.06, 'max_iter': 600, 'solver': 'sgd', 'tol': 0.0001}\n",
      "MLPClassifier(activation='logistic', alpha=0.0001, batch_size=2000,\n",
      "       beta_1=0.9, beta_2=0.999, early_stopping=False, epsilon=1e-08,\n",
      "       hidden_layer_sizes=(200,), learning_rate='constant',\n",
      "       learning_rate_init=0.06, max_iter=600, momentum=0.9,\n",
      "       n_iter_no_change=10, nesterovs_momentum=True, power_t=0.5,\n",
      "       random_state=0, shuffle=True, solver='sgd', tol=0.0001,\n",
      "       validation_fraction=0.1, verbose=False, warm_start=False)\n"
     ]
    }
   ],
   "source": [
    "from sklearn.neural_network import MLPClassifier\n",
    "\n",
    "clf_mlp = MLPClassifier(activation = \"logistic\", hidden_layer_sizes=(200,), random_state=0)\n",
    "param_grid = { 'batch_size' : [batchsize] , 'max_iter': [600], 'alpha': [1e-4], \n",
    "               'solver': ['sgd'], 'learning_rate_init': [0.05,0.06],'tol': [1e-4] }\n",
    "    \n",
    "GridCV_MLP = GridSearchCV(clf_mlp, param_grid, verbose=1, cv=3)\n",
    "GridCV_MLP.fit(X_train,y_train)\n",
    "score_grid_MLP = get_best_score(GridCV_MLP)   "
   ]
  },
  {
   "cell_type": "code",
   "execution_count": 34,
   "metadata": {},
   "outputs": [
    {
     "data": {
      "image/png": "[encoded data removed]",
      "text/plain": [
       "<Figure size 432x216 with 1 Axes>"
      ]
     },
     "metadata": {},
     "output_type": "display_data"
    }
   ],
   "source": [
    "fig, ax = plt.subplots(figsize=(6,3))\n",
    "ax.plot(GridCV_MLP.best_estimator_.loss_curve_)\n",
    "\n",
    "plt.xlabel(\"number of steps\") \n",
    "plt.ylabel(\"Loss During GD\")\n",
    "plt.title(\"loss function\")\n",
    "plt.show()"
   ]
  },
  {
   "cell_type": "code",
   "execution_count": 35,
   "metadata": {},
   "outputs": [],
   "source": [
    "pred_val_mlp = GridCV_MLP.predict(X_val)"
   ]
  },
  {
   "cell_type": "code",
   "execution_count": 36,
   "metadata": {},
   "outputs": [
    {
     "name": "stdout",
     "output_type": "stream",
     "text": [
      "Classification Report\n",
      "              precision    recall  f1-score   support\n",
      "\n",
      "           0       0.98      0.98      0.98       998\n",
      "           1       0.98      0.99      0.98      1127\n",
      "           2       0.98      0.97      0.98       967\n",
      "           3       0.97      0.97      0.97      1060\n",
      "           4       0.97      0.97      0.97       914\n",
      "           5       0.97      0.96      0.97       914\n",
      "           6       0.97      0.98      0.98       951\n",
      "           7       0.97      0.97      0.97      1066\n",
      "           8       0.97      0.97      0.97       995\n",
      "           9       0.96      0.95      0.95      1008\n",
      "\n",
      "   micro avg       0.97      0.97      0.97     10000\n",
      "   macro avg       0.97      0.97      0.97     10000\n",
      "weighted avg       0.97      0.97      0.97     10000\n",
      "\n",
      "Accuracy : 0.9723\n"
     ]
    }
   ],
   "source": [
    "acc_mlp= print_validation_report(y_val, pred_val_mlp)"
   ]
  },
  {
   "cell_type": "code",
   "execution_count": 37,
   "metadata": {},
   "outputs": [
    {
     "data": {
      "image/png": "[encoded data removed]",
      "text/plain": [
       "<Figure size 576x576 with 1 Axes>"
      ]
     },
     "metadata": {},
     "output_type": "display_data"
    }
   ],
   "source": [
    "plot_confusion_matrix(y_val, pred_val_mlp)"
   ]
  },
  {
   "cell_type": "code",
   "execution_count": 38,
   "metadata": {},
   "outputs": [],
   "source": [
    "y_train = to_categorical(y_train, 10)\n",
    "y_val_10 = to_categorical(y_val, 10)"
   ]
  },
  {
   "cell_type": "code",
   "execution_count": 39,
   "metadata": {},
   "outputs": [],
   "source": [
    "def dense_model_0():\n",
    "    model = Sequential()\n",
    "    model.add(Dense(10, input_dim=784, activation='softmax'))\n",
    "    model.compile(loss='categorical_crossentropy', optimizer='adam', metrics=['accuracy'])\n",
    "    return model"
   ]
  },
  {
   "cell_type": "code",
   "execution_count": 40,
   "metadata": {},
   "outputs": [
    {
     "name": "stdout",
     "output_type": "stream",
     "text": [
      "WARNING:tensorflow:From /opt/conda/lib/python3.6/site-packages/tensorflow/python/framework/op_def_library.py:263: colocate_with (from tensorflow.python.framework.ops) is deprecated and will be removed in a future version.\n",
      "Instructions for updating:\n",
      "Colocations handled automatically by placer.\n",
      "_________________________________________________________________\n",
      "Layer (type)                 Output Shape              Param #   \n",
      "=================================================================\n",
      "dense_1 (Dense)              (None, 10)                7850      \n",
      "=================================================================\n",
      "Total params: 7,850\n",
      "Trainable params: 7,850\n",
      "Non-trainable params: 0\n",
      "_________________________________________________________________\n"
     ]
    }
   ],
   "source": [
    "model_dense_0 = dense_model_0()\n",
    "model_dense_0.summary()"
   ]
  },
  {
   "cell_type": "code",
   "execution_count": 41,
   "metadata": {},
   "outputs": [
    {
     "name": "stdout",
     "output_type": "stream",
     "text": [
      "WARNING:tensorflow:From /opt/conda/lib/python3.6/site-packages/tensorflow/python/ops/math_ops.py:3066: to_int32 (from tensorflow.python.ops.math_ops) is deprecated and will be removed in a future version.\n",
      "Instructions for updating:\n",
      "Use tf.cast instead.\n",
      "Epoch 1/50\n",
      "30000/30000 [==============================] - 4s 132us/step - loss: 2.0839 - acc: 0.2786\n",
      "Epoch 2/50\n",
      "30000/30000 [==============================] - 1s 27us/step - loss: 1.5352 - acc: 0.6586\n",
      "Epoch 3/50\n",
      "30000/30000 [==============================] - 1s 27us/step - loss: 1.1851 - acc: 0.7701\n",
      "Epoch 4/50\n",
      "30000/30000 [==============================] - 1s 27us/step - loss: 0.9716 - acc: 0.8057\n",
      "Epoch 5/50\n",
      "30000/30000 [==============================] - 1s 27us/step - loss: 0.8372 - acc: 0.8267\n",
      "Epoch 6/50\n",
      "30000/30000 [==============================] - 1s 27us/step - loss: 0.7463 - acc: 0.8390\n",
      "Epoch 7/50\n",
      "30000/30000 [==============================] - 1s 27us/step - loss: 0.6811 - acc: 0.8494\n",
      "Epoch 8/50\n",
      "30000/30000 [==============================] - 1s 27us/step - loss: 0.6317 - acc: 0.8577\n",
      "Epoch 9/50\n",
      "30000/30000 [==============================] - 1s 27us/step - loss: 0.5928 - acc: 0.8625\n",
      "Epoch 10/50\n",
      "30000/30000 [==============================] - 1s 27us/step - loss: 0.5613 - acc: 0.8688\n",
      "Epoch 11/50\n",
      "30000/30000 [==============================] - 1s 27us/step - loss: 0.5351 - acc: 0.8723\n",
      "Epoch 12/50\n",
      "30000/30000 [==============================] - 1s 27us/step - loss: 0.5131 - acc: 0.8769\n",
      "Epoch 13/50\n",
      "30000/30000 [==============================] - 1s 27us/step - loss: 0.4940 - acc: 0.8800\n",
      "Epoch 14/50\n",
      "30000/30000 [==============================] - 1s 27us/step - loss: 0.4777 - acc: 0.8835\n",
      "Epoch 15/50\n",
      "30000/30000 [==============================] - 1s 27us/step - loss: 0.4632 - acc: 0.8859\n",
      "Epoch 16/50\n",
      "30000/30000 [==============================] - 1s 27us/step - loss: 0.4504 - acc: 0.8883\n",
      "Epoch 17/50\n",
      "30000/30000 [==============================] - 1s 27us/step - loss: 0.4392 - acc: 0.8906\n",
      "Epoch 18/50\n",
      "30000/30000 [==============================] - 1s 27us/step - loss: 0.4289 - acc: 0.8930\n",
      "Epoch 19/50\n",
      "30000/30000 [==============================] - 1s 27us/step - loss: 0.4196 - acc: 0.8943\n",
      "Epoch 20/50\n",
      "30000/30000 [==============================] - 1s 27us/step - loss: 0.4110 - acc: 0.8962\n",
      "Epoch 21/50\n",
      "30000/30000 [==============================] - 1s 27us/step - loss: 0.4035 - acc: 0.8972\n",
      "Epoch 22/50\n",
      "30000/30000 [==============================] - 1s 27us/step - loss: 0.3963 - acc: 0.8986\n",
      "Epoch 23/50\n",
      "30000/30000 [==============================] - 1s 27us/step - loss: 0.3898 - acc: 0.8997\n",
      "Epoch 24/50\n",
      "30000/30000 [==============================] - 1s 27us/step - loss: 0.3839 - acc: 0.9006\n",
      "Epoch 25/50\n",
      "30000/30000 [==============================] - 1s 27us/step - loss: 0.3782 - acc: 0.9017\n",
      "Epoch 26/50\n",
      "30000/30000 [==============================] - 1s 27us/step - loss: 0.3730 - acc: 0.9031\n",
      "Epoch 27/50\n",
      "30000/30000 [==============================] - 1s 27us/step - loss: 0.3682 - acc: 0.9040\n",
      "Epoch 28/50\n",
      "30000/30000 [==============================] - 1s 27us/step - loss: 0.3636 - acc: 0.9048\n",
      "Epoch 29/50\n",
      "30000/30000 [==============================] - 1s 27us/step - loss: 0.3593 - acc: 0.9057\n",
      "Epoch 30/50\n",
      "30000/30000 [==============================] - 1s 27us/step - loss: 0.3552 - acc: 0.9068\n",
      "Epoch 31/50\n",
      "30000/30000 [==============================] - 1s 27us/step - loss: 0.3513 - acc: 0.9071\n",
      "Epoch 32/50\n",
      "30000/30000 [==============================] - 1s 27us/step - loss: 0.3477 - acc: 0.9077\n",
      "Epoch 33/50\n",
      "30000/30000 [==============================] - 1s 27us/step - loss: 0.3443 - acc: 0.9087\n",
      "Epoch 34/50\n",
      "30000/30000 [==============================] - 1s 27us/step - loss: 0.3411 - acc: 0.9095\n",
      "Epoch 35/50\n",
      "30000/30000 [==============================] - 1s 27us/step - loss: 0.3379 - acc: 0.9105\n",
      "Epoch 36/50\n",
      "30000/30000 [==============================] - 1s 27us/step - loss: 0.3350 - acc: 0.9112\n",
      "Epoch 37/50\n",
      "30000/30000 [==============================] - 1s 27us/step - loss: 0.3322 - acc: 0.9111\n",
      "Epoch 38/50\n",
      "30000/30000 [==============================] - 1s 27us/step - loss: 0.3295 - acc: 0.9127\n",
      "Epoch 39/50\n",
      "30000/30000 [==============================] - 1s 27us/step - loss: 0.3270 - acc: 0.9127\n",
      "Epoch 40/50\n",
      "30000/30000 [==============================] - 1s 27us/step - loss: 0.3245 - acc: 0.9131\n",
      "Epoch 41/50\n",
      "30000/30000 [==============================] - 1s 27us/step - loss: 0.3221 - acc: 0.9136\n",
      "Epoch 42/50\n",
      "30000/30000 [==============================] - 1s 27us/step - loss: 0.3198 - acc: 0.9143\n",
      "Epoch 43/50\n",
      "30000/30000 [==============================] - 1s 27us/step - loss: 0.3178 - acc: 0.9146\n",
      "Epoch 44/50\n",
      "30000/30000 [==============================] - 1s 27us/step - loss: 0.3157 - acc: 0.9152\n",
      "Epoch 45/50\n",
      "30000/30000 [==============================] - 1s 27us/step - loss: 0.3137 - acc: 0.9153\n",
      "Epoch 46/50\n",
      "30000/30000 [==============================] - 1s 27us/step - loss: 0.3118 - acc: 0.9156\n",
      "Epoch 47/50\n",
      "30000/30000 [==============================] - 1s 27us/step - loss: 0.3098 - acc: 0.9161\n",
      "Epoch 48/50\n",
      "30000/30000 [==============================] - 1s 27us/step - loss: 0.3080 - acc: 0.9166\n",
      "Epoch 49/50\n",
      "30000/30000 [==============================] - 1s 27us/step - loss: 0.3062 - acc: 0.9172\n",
      "Epoch 50/50\n",
      "30000/30000 [==============================] - 1s 27us/step - loss: 0.3045 - acc: 0.9175\n"
     ]
    },
    {
     "data": {
      "text/plain": [
       "<keras.callbacks.History at 0x7f0784e33470>"
      ]
     },
     "execution_count": 41,
     "metadata": {},
     "output_type": "execute_result"
    }
   ],
   "source": [
    "model_dense_0.fit(X_train, y_train, epochs=50, batch_size=batchsize)"
   ]
  },
  {
   "cell_type": "code",
   "execution_count": 42,
   "metadata": {},
   "outputs": [
    {
     "name": "stdout",
     "output_type": "stream",
     "text": [
      "Classification Report\n",
      "              precision    recall  f1-score   support\n",
      "\n",
      "           0       0.95      0.96      0.96       998\n",
      "           1       0.93      0.98      0.95      1127\n",
      "           2       0.91      0.89      0.90       967\n",
      "           3       0.91      0.89      0.90      1060\n",
      "           4       0.92      0.93      0.92       914\n",
      "           5       0.91      0.85      0.88       914\n",
      "           6       0.93      0.95      0.94       951\n",
      "           7       0.93      0.92      0.93      1066\n",
      "           8       0.88      0.88      0.88       995\n",
      "           9       0.88      0.89      0.89      1008\n",
      "\n",
      "   micro avg       0.92      0.92      0.92     10000\n",
      "   macro avg       0.92      0.91      0.91     10000\n",
      "weighted avg       0.92      0.92      0.92     10000\n",
      "\n",
      "Accuracy : 0.9157\n"
     ]
    }
   ],
   "source": [
    "pred_val_dense0 = model_dense_0.predict_classes(X_val)\n",
    "acc_fc0 = print_validation_report(y_val, pred_val_dense0)"
   ]
  },
  {
   "cell_type": "code",
   "execution_count": 43,
   "metadata": {},
   "outputs": [
    {
     "data": {
      "image/png": "[encoded data removed]",
      "text/plain": [
       "<Figure size 576x576 with 1 Axes>"
      ]
     },
     "metadata": {},
     "output_type": "display_data"
    }
   ],
   "source": [
    "plot_confusion_matrix(y_val, pred_val_dense0)"
   ]
  },
  {
   "cell_type": "code",
   "execution_count": 44,
   "metadata": {},
   "outputs": [],
   "source": [
    "def dense_model_1():\n",
    "    model = Sequential()\n",
    "    model.add(Dense(100, input_dim=784, activation='relu'))\n",
    "    model.add(Dense(10, activation='softmax'))\n",
    "    model.compile(loss='categorical_crossentropy', optimizer='adam', metrics=['accuracy'])\n",
    "    return model"
   ]
  },
  {
   "cell_type": "code",
   "execution_count": 45,
   "metadata": {},
   "outputs": [
    {
     "name": "stdout",
     "output_type": "stream",
     "text": [
      "_________________________________________________________________\n",
      "Layer (type)                 Output Shape              Param #   \n",
      "=================================================================\n",
      "dense_2 (Dense)              (None, 100)               78500     \n",
      "_________________________________________________________________\n",
      "dense_3 (Dense)              (None, 10)                1010      \n",
      "=================================================================\n",
      "Total params: 79,510\n",
      "Trainable params: 79,510\n",
      "Non-trainable params: 0\n",
      "_________________________________________________________________\n"
     ]
    }
   ],
   "source": [
    "model_dense_1 = dense_model_1()\n",
    "model_dense_1.summary()"
   ]
  },
  {
   "cell_type": "code",
   "execution_count": 46,
   "metadata": {},
   "outputs": [
    {
     "name": "stdout",
     "output_type": "stream",
     "text": [
      "Train on 30000 samples, validate on 10000 samples\n",
      "Epoch 1/50\n",
      "30000/30000 [==============================] - 1s 37us/step - loss: 1.7334 - acc: 0.5084 - val_loss: 1.0970 - val_acc: 0.7606\n",
      "Epoch 2/50\n",
      "30000/30000 [==============================] - 1s 29us/step - loss: 0.8069 - acc: 0.8058 - val_loss: 0.5832 - val_acc: 0.8474\n",
      "Epoch 3/50\n",
      "30000/30000 [==============================] - 1s 29us/step - loss: 0.5068 - acc: 0.8644 - val_loss: 0.4286 - val_acc: 0.8817\n",
      "Epoch 4/50\n",
      "30000/30000 [==============================] - 1s 29us/step - loss: 0.4031 - acc: 0.8893 - val_loss: 0.3643 - val_acc: 0.8970\n",
      "Epoch 5/50\n",
      "30000/30000 [==============================] - 1s 29us/step - loss: 0.3523 - acc: 0.9023 - val_loss: 0.3281 - val_acc: 0.9083\n",
      "Epoch 6/50\n",
      "30000/30000 [==============================] - 1s 29us/step - loss: 0.3210 - acc: 0.9107 - val_loss: 0.3022 - val_acc: 0.9152\n",
      "Epoch 7/50\n",
      "30000/30000 [==============================] - 1s 29us/step - loss: 0.2979 - acc: 0.9167 - val_loss: 0.2836 - val_acc: 0.9194\n",
      "Epoch 8/50\n",
      "30000/30000 [==============================] - 1s 30us/step - loss: 0.2801 - acc: 0.9218 - val_loss: 0.2704 - val_acc: 0.9220\n",
      "Epoch 9/50\n",
      "30000/30000 [==============================] - 1s 29us/step - loss: 0.2647 - acc: 0.9267 - val_loss: 0.2572 - val_acc: 0.9273\n",
      "Epoch 10/50\n",
      "30000/30000 [==============================] - 1s 29us/step - loss: 0.2512 - acc: 0.9300 - val_loss: 0.2473 - val_acc: 0.9287\n",
      "Epoch 11/50\n",
      "30000/30000 [==============================] - 1s 29us/step - loss: 0.2394 - acc: 0.9334 - val_loss: 0.2370 - val_acc: 0.9326\n",
      "Epoch 12/50\n",
      "30000/30000 [==============================] - 1s 29us/step - loss: 0.2291 - acc: 0.9370 - val_loss: 0.2289 - val_acc: 0.9345\n",
      "Epoch 13/50\n",
      "30000/30000 [==============================] - 1s 29us/step - loss: 0.2191 - acc: 0.9389 - val_loss: 0.2203 - val_acc: 0.9372\n",
      "Epoch 14/50\n",
      "30000/30000 [==============================] - 1s 29us/step - loss: 0.2101 - acc: 0.9419 - val_loss: 0.2175 - val_acc: 0.9387\n",
      "Epoch 15/50\n",
      "30000/30000 [==============================] - 1s 29us/step - loss: 0.2031 - acc: 0.9441 - val_loss: 0.2079 - val_acc: 0.9412\n",
      "Epoch 16/50\n",
      "30000/30000 [==============================] - 1s 29us/step - loss: 0.1945 - acc: 0.9462 - val_loss: 0.2013 - val_acc: 0.9424\n",
      "Epoch 17/50\n",
      "30000/30000 [==============================] - 1s 29us/step - loss: 0.1869 - acc: 0.9487 - val_loss: 0.1971 - val_acc: 0.9433\n",
      "Epoch 18/50\n",
      "30000/30000 [==============================] - 1s 29us/step - loss: 0.1807 - acc: 0.9500 - val_loss: 0.1912 - val_acc: 0.9452\n",
      "Epoch 19/50\n",
      "30000/30000 [==============================] - 1s 30us/step - loss: 0.1742 - acc: 0.9521 - val_loss: 0.1867 - val_acc: 0.9472\n",
      "Epoch 20/50\n",
      "30000/30000 [==============================] - 1s 29us/step - loss: 0.1678 - acc: 0.9542 - val_loss: 0.1819 - val_acc: 0.9477\n",
      "Epoch 21/50\n",
      "30000/30000 [==============================] - 1s 29us/step - loss: 0.1621 - acc: 0.9562 - val_loss: 0.1782 - val_acc: 0.9497\n",
      "Epoch 22/50\n",
      "30000/30000 [==============================] - 1s 29us/step - loss: 0.1563 - acc: 0.9579 - val_loss: 0.1741 - val_acc: 0.9493\n",
      "Epoch 23/50\n",
      "30000/30000 [==============================] - 1s 29us/step - loss: 0.1516 - acc: 0.9588 - val_loss: 0.1703 - val_acc: 0.9518\n",
      "Epoch 24/50\n",
      "30000/30000 [==============================] - 1s 29us/step - loss: 0.1466 - acc: 0.9603 - val_loss: 0.1674 - val_acc: 0.9520\n",
      "Epoch 25/50\n",
      "30000/30000 [==============================] - 1s 29us/step - loss: 0.1419 - acc: 0.9617 - val_loss: 0.1640 - val_acc: 0.9521\n",
      "Epoch 26/50\n",
      "30000/30000 [==============================] - 1s 29us/step - loss: 0.1375 - acc: 0.9630 - val_loss: 0.1609 - val_acc: 0.9536\n",
      "Epoch 27/50\n",
      "30000/30000 [==============================] - 1s 29us/step - loss: 0.1326 - acc: 0.9651 - val_loss: 0.1575 - val_acc: 0.9545\n",
      "Epoch 28/50\n",
      "30000/30000 [==============================] - 1s 28us/step - loss: 0.1288 - acc: 0.9652 - val_loss: 0.1550 - val_acc: 0.9554\n",
      "Epoch 29/50\n",
      "30000/30000 [==============================] - 1s 29us/step - loss: 0.1243 - acc: 0.9671 - val_loss: 0.1534 - val_acc: 0.9560\n",
      "Epoch 30/50\n",
      "30000/30000 [==============================] - 1s 29us/step - loss: 0.1209 - acc: 0.9678 - val_loss: 0.1506 - val_acc: 0.9577\n",
      "Epoch 31/50\n",
      "30000/30000 [==============================] - 1s 29us/step - loss: 0.1171 - acc: 0.9694 - val_loss: 0.1482 - val_acc: 0.9568\n",
      "Epoch 32/50\n",
      "30000/30000 [==============================] - 1s 29us/step - loss: 0.1135 - acc: 0.9699 - val_loss: 0.1455 - val_acc: 0.9580\n",
      "Epoch 33/50\n",
      "30000/30000 [==============================] - 1s 29us/step - loss: 0.1097 - acc: 0.9711 - val_loss: 0.1435 - val_acc: 0.9585\n",
      "Epoch 34/50\n",
      "30000/30000 [==============================] - 1s 29us/step - loss: 0.1069 - acc: 0.9714 - val_loss: 0.1413 - val_acc: 0.9595\n",
      "Epoch 35/50\n",
      "30000/30000 [==============================] - 1s 29us/step - loss: 0.1035 - acc: 0.9727 - val_loss: 0.1397 - val_acc: 0.9588\n",
      "Epoch 36/50\n",
      "30000/30000 [==============================] - 1s 29us/step - loss: 0.1002 - acc: 0.9739 - val_loss: 0.1385 - val_acc: 0.9602\n",
      "Epoch 37/50\n",
      "30000/30000 [==============================] - 1s 29us/step - loss: 0.0973 - acc: 0.9747 - val_loss: 0.1362 - val_acc: 0.9598\n",
      "Epoch 38/50\n",
      "30000/30000 [==============================] - 1s 29us/step - loss: 0.0947 - acc: 0.9748 - val_loss: 0.1344 - val_acc: 0.9597\n",
      "Epoch 39/50\n",
      "30000/30000 [==============================] - 1s 29us/step - loss: 0.0917 - acc: 0.9765 - val_loss: 0.1332 - val_acc: 0.9605\n",
      "Epoch 40/50\n",
      "30000/30000 [==============================] - 1s 29us/step - loss: 0.0891 - acc: 0.9765 - val_loss: 0.1318 - val_acc: 0.9612\n",
      "Epoch 41/50\n",
      "30000/30000 [==============================] - 1s 30us/step - loss: 0.0867 - acc: 0.9779 - val_loss: 0.1307 - val_acc: 0.9607\n",
      "Epoch 42/50\n",
      "30000/30000 [==============================] - 1s 29us/step - loss: 0.0846 - acc: 0.9783 - val_loss: 0.1290 - val_acc: 0.9616\n",
      "Epoch 43/50\n",
      "30000/30000 [==============================] - 1s 29us/step - loss: 0.0819 - acc: 0.9788 - val_loss: 0.1282 - val_acc: 0.9612\n",
      "Epoch 44/50\n",
      "30000/30000 [==============================] - 1s 29us/step - loss: 0.0800 - acc: 0.9794 - val_loss: 0.1263 - val_acc: 0.9619\n",
      "Epoch 45/50\n",
      "30000/30000 [==============================] - 1s 30us/step - loss: 0.0777 - acc: 0.9805 - val_loss: 0.1257 - val_acc: 0.9632\n",
      "Epoch 46/50\n",
      "30000/30000 [==============================] - 1s 29us/step - loss: 0.0750 - acc: 0.9810 - val_loss: 0.1245 - val_acc: 0.9621\n",
      "Epoch 47/50\n",
      "30000/30000 [==============================] - 1s 29us/step - loss: 0.0731 - acc: 0.9817 - val_loss: 0.1239 - val_acc: 0.9624\n",
      "Epoch 48/50\n",
      "30000/30000 [==============================] - 1s 29us/step - loss: 0.0710 - acc: 0.9827 - val_loss: 0.1224 - val_acc: 0.9634\n",
      "Epoch 49/50\n",
      "30000/30000 [==============================] - 1s 29us/step - loss: 0.0692 - acc: 0.9828 - val_loss: 0.1218 - val_acc: 0.9628\n",
      "Epoch 50/50\n",
      "30000/30000 [==============================] - 1s 29us/step - loss: 0.0671 - acc: 0.9834 - val_loss: 0.1216 - val_acc: 0.9631\n"
     ]
    }
   ],
   "source": [
    "history_dense_1 = model_dense_1.fit(X_train, y_train, validation_data=(X_val,y_val_10), \n",
    "                                    epochs=50, batch_size=batchsize)"
   ]
  },
  {
   "cell_type": "code",
   "execution_count": 47,
   "metadata": {},
   "outputs": [],
   "source": [
    "def plot_history_loss_and_acc(history_keras_nn):\n",
    "\n",
    "    fig, axs = plt.subplots(1,2, figsize=(12,4))\n",
    "\n",
    "    axs[0].plot(history_keras_nn.history['loss'])\n",
    "    axs[0].plot(history_keras_nn.history['val_loss'])\n",
    "    axs[0].set_title('model loss')\n",
    "    axs[0].set_ylabel('loss')\n",
    "    axs[0].set_xlabel('epoch')\n",
    "    axs[0].legend(['train', 'validation'], loc='upper left')\n",
    "\n",
    "    axs[1].plot(history_keras_nn.history['acc'])\n",
    "    axs[1].plot(history_keras_nn.history['val_acc'])\n",
    "    axs[1].set_title('model accuracy')\n",
    "    axs[1].set_ylabel('accuracy')\n",
    "    axs[1].set_xlabel('epoch')\n",
    "    axs[1].legend(['train', 'validation'], loc='upper left')\n",
    "\n",
    "    plt.show()"
   ]
  },
  {
   "cell_type": "code",
   "execution_count": 48,
   "metadata": {},
   "outputs": [
    {
     "data": {
      "image/png": "[encoded data removed]",
      "text/plain": [
       "<Figure size 864x288 with 2 Axes>"
      ]
     },
     "metadata": {},
     "output_type": "display_data"
    }
   ],
   "source": [
    "plot_history_loss_and_acc(history_dense_1)"
   ]
  },
  {
   "cell_type": "code",
   "execution_count": 49,
   "metadata": {},
   "outputs": [
    {
     "name": "stdout",
     "output_type": "stream",
     "text": [
      "              precision    recall  f1-score   support\n",
      "\n",
      "           0       0.98      0.97      0.97       998\n",
      "           1       0.97      0.99      0.98      1127\n",
      "           2       0.97      0.96      0.96       967\n",
      "           3       0.97      0.95      0.96      1060\n",
      "           4       0.95      0.96      0.95       914\n",
      "           5       0.95      0.96      0.95       914\n",
      "           6       0.96      0.98      0.97       951\n",
      "           7       0.97      0.98      0.97      1066\n",
      "           8       0.95      0.96      0.96       995\n",
      "           9       0.95      0.93      0.94      1008\n",
      "\n",
      "   micro avg       0.96      0.96      0.96     10000\n",
      "   macro avg       0.96      0.96      0.96     10000\n",
      "weighted avg       0.96      0.96      0.96     10000\n",
      "\n",
      "0.9631\n"
     ]
    },
    {
     "data": {
      "image/png": "[encoded data removed]",
      "text/plain": [
       "<Figure size 576x576 with 1 Axes>"
      ]
     },
     "metadata": {},
     "output_type": "display_data"
    }
   ],
   "source": [
    "pred_val_dense1 = model_dense_1.predict_classes(X_val)\n",
    "plot_confusion_matrix(y_val, pred_val_dense1)\n",
    "print(classification_report(y_val, pred_val_dense1))\n",
    "acc_fc1 = accuracy_score(y_val, pred_val_dense1)\n",
    "print(acc_fc1)"
   ]
  },
  {
   "cell_type": "code",
   "execution_count": 50,
   "metadata": {},
   "outputs": [],
   "source": [
    "def dense_model_2():\n",
    "    model = Sequential()\n",
    "    model.add(Dense(100, input_dim=784, activation='relu'))\n",
    "    model.add(Dense(200, activation='relu'))\n",
    "    model.add(Dense(10, activation='softmax'))\n",
    "    model.compile(loss='categorical_crossentropy', optimizer='adam', metrics=['accuracy'])\n",
    "    return model"
   ]
  },
  {
   "cell_type": "code",
   "execution_count": 51,
   "metadata": {},
   "outputs": [
    {
     "name": "stdout",
     "output_type": "stream",
     "text": [
      "_________________________________________________________________\n",
      "Layer (type)                 Output Shape              Param #   \n",
      "=================================================================\n",
      "dense_4 (Dense)              (None, 100)               78500     \n",
      "_________________________________________________________________\n",
      "dense_5 (Dense)              (None, 200)               20200     \n",
      "_________________________________________________________________\n",
      "dense_6 (Dense)              (None, 10)                2010      \n",
      "=================================================================\n",
      "Total params: 100,710\n",
      "Trainable params: 100,710\n",
      "Non-trainable params: 0\n",
      "_________________________________________________________________\n"
     ]
    }
   ],
   "source": [
    "model_dense_2 = dense_model_2()\n",
    "model_dense_2.summary()"
   ]
  },
  {
   "cell_type": "code",
   "execution_count": 52,
   "metadata": {},
   "outputs": [
    {
     "name": "stdout",
     "output_type": "stream",
     "text": [
      "Train on 30000 samples, validate on 10000 samples\n",
      "Epoch 1/50\n",
      "30000/30000 [==============================] - 1s 41us/step - loss: 1.7486 - acc: 0.5699 - val_loss: 1.0072 - val_acc: 0.7898\n",
      "Epoch 2/50\n",
      "30000/30000 [==============================] - 1s 30us/step - loss: 0.6632 - acc: 0.8358 - val_loss: 0.4335 - val_acc: 0.8750\n",
      "Epoch 3/50\n",
      "30000/30000 [==============================] - 1s 30us/step - loss: 0.3814 - acc: 0.8887 - val_loss: 0.3179 - val_acc: 0.9070\n",
      "Epoch 4/50\n",
      "30000/30000 [==============================] - 1s 29us/step - loss: 0.3028 - acc: 0.9104 - val_loss: 0.2672 - val_acc: 0.9208\n",
      "Epoch 5/50\n",
      "30000/30000 [==============================] - 1s 30us/step - loss: 0.2615 - acc: 0.9241 - val_loss: 0.2395 - val_acc: 0.9310\n",
      "Epoch 6/50\n",
      "30000/30000 [==============================] - 1s 30us/step - loss: 0.2357 - acc: 0.9336 - val_loss: 0.2185 - val_acc: 0.9355\n",
      "Epoch 7/50\n",
      "30000/30000 [==============================] - 1s 30us/step - loss: 0.2124 - acc: 0.9397 - val_loss: 0.2025 - val_acc: 0.9404\n",
      "Epoch 8/50\n",
      "30000/30000 [==============================] - 1s 30us/step - loss: 0.1929 - acc: 0.9441 - val_loss: 0.1870 - val_acc: 0.9441\n",
      "Epoch 9/50\n",
      "30000/30000 [==============================] - 1s 30us/step - loss: 0.1749 - acc: 0.9483 - val_loss: 0.1757 - val_acc: 0.9491\n",
      "Epoch 10/50\n",
      "30000/30000 [==============================] - 1s 30us/step - loss: 0.1603 - acc: 0.9535 - val_loss: 0.1687 - val_acc: 0.9498\n",
      "Epoch 11/50\n",
      "30000/30000 [==============================] - 1s 30us/step - loss: 0.1493 - acc: 0.9576 - val_loss: 0.1593 - val_acc: 0.9542\n",
      "Epoch 12/50\n",
      "30000/30000 [==============================] - 1s 30us/step - loss: 0.1377 - acc: 0.9609 - val_loss: 0.1500 - val_acc: 0.9571\n",
      "Epoch 13/50\n",
      "30000/30000 [==============================] - 1s 30us/step - loss: 0.1272 - acc: 0.9638 - val_loss: 0.1460 - val_acc: 0.9572\n",
      "Epoch 14/50\n",
      "30000/30000 [==============================] - 1s 30us/step - loss: 0.1190 - acc: 0.9659 - val_loss: 0.1397 - val_acc: 0.9593\n",
      "Epoch 15/50\n",
      "30000/30000 [==============================] - 1s 30us/step - loss: 0.1110 - acc: 0.9683 - val_loss: 0.1342 - val_acc: 0.9606\n",
      "Epoch 16/50\n",
      "30000/30000 [==============================] - 1s 30us/step - loss: 0.1037 - acc: 0.9706 - val_loss: 0.1318 - val_acc: 0.9609\n",
      "Epoch 17/50\n",
      "30000/30000 [==============================] - 1s 30us/step - loss: 0.0968 - acc: 0.9732 - val_loss: 0.1290 - val_acc: 0.9622\n",
      "Epoch 18/50\n",
      "30000/30000 [==============================] - 1s 30us/step - loss: 0.0910 - acc: 0.9749 - val_loss: 0.1257 - val_acc: 0.9619\n",
      "Epoch 19/50\n",
      "30000/30000 [==============================] - 1s 30us/step - loss: 0.0856 - acc: 0.9766 - val_loss: 0.1215 - val_acc: 0.9643\n",
      "Epoch 20/50\n",
      "30000/30000 [==============================] - 1s 30us/step - loss: 0.0797 - acc: 0.9783 - val_loss: 0.1181 - val_acc: 0.9643\n",
      "Epoch 21/50\n",
      "30000/30000 [==============================] - 1s 30us/step - loss: 0.0753 - acc: 0.9795 - val_loss: 0.1192 - val_acc: 0.9650\n",
      "Epoch 22/50\n",
      "30000/30000 [==============================] - 1s 29us/step - loss: 0.0715 - acc: 0.9804 - val_loss: 0.1144 - val_acc: 0.9665\n",
      "Epoch 23/50\n",
      "30000/30000 [==============================] - 1s 30us/step - loss: 0.0670 - acc: 0.9821 - val_loss: 0.1138 - val_acc: 0.9663\n",
      "Epoch 24/50\n",
      "30000/30000 [==============================] - 1s 29us/step - loss: 0.0644 - acc: 0.9824 - val_loss: 0.1136 - val_acc: 0.9647\n",
      "Epoch 25/50\n",
      "30000/30000 [==============================] - 1s 30us/step - loss: 0.0604 - acc: 0.9837 - val_loss: 0.1105 - val_acc: 0.9658\n",
      "Epoch 26/50\n",
      "30000/30000 [==============================] - 1s 30us/step - loss: 0.0560 - acc: 0.9845 - val_loss: 0.1112 - val_acc: 0.9669\n",
      "Epoch 27/50\n",
      "30000/30000 [==============================] - 1s 29us/step - loss: 0.0530 - acc: 0.9863 - val_loss: 0.1106 - val_acc: 0.9680\n",
      "Epoch 28/50\n",
      "30000/30000 [==============================] - 1s 30us/step - loss: 0.0497 - acc: 0.9868 - val_loss: 0.1081 - val_acc: 0.9676\n",
      "Epoch 29/50\n",
      "30000/30000 [==============================] - 1s 29us/step - loss: 0.0472 - acc: 0.9879 - val_loss: 0.1087 - val_acc: 0.9675\n",
      "Epoch 30/50\n",
      "30000/30000 [==============================] - 1s 30us/step - loss: 0.0436 - acc: 0.9884 - val_loss: 0.1068 - val_acc: 0.9689\n",
      "Epoch 31/50\n",
      "30000/30000 [==============================] - 1s 30us/step - loss: 0.0417 - acc: 0.9891 - val_loss: 0.1079 - val_acc: 0.9689\n",
      "Epoch 32/50\n",
      "30000/30000 [==============================] - 1s 30us/step - loss: 0.0388 - acc: 0.9900 - val_loss: 0.1055 - val_acc: 0.9701\n",
      "Epoch 33/50\n",
      "30000/30000 [==============================] - 1s 30us/step - loss: 0.0363 - acc: 0.9915 - val_loss: 0.1075 - val_acc: 0.9686\n",
      "Epoch 34/50\n",
      "30000/30000 [==============================] - 1s 30us/step - loss: 0.0342 - acc: 0.9920 - val_loss: 0.1065 - val_acc: 0.9692\n",
      "Epoch 35/50\n",
      "30000/30000 [==============================] - 1s 30us/step - loss: 0.0323 - acc: 0.9926 - val_loss: 0.1091 - val_acc: 0.9676\n",
      "Epoch 36/50\n",
      "30000/30000 [==============================] - 1s 30us/step - loss: 0.0303 - acc: 0.9930 - val_loss: 0.1063 - val_acc: 0.9695\n",
      "Epoch 37/50\n",
      "30000/30000 [==============================] - 1s 30us/step - loss: 0.0285 - acc: 0.9941 - val_loss: 0.1063 - val_acc: 0.9701\n",
      "Epoch 38/50\n",
      "30000/30000 [==============================] - 1s 30us/step - loss: 0.0268 - acc: 0.9943 - val_loss: 0.1089 - val_acc: 0.9703\n",
      "Epoch 39/50\n",
      "30000/30000 [==============================] - 1s 30us/step - loss: 0.0251 - acc: 0.9954 - val_loss: 0.1079 - val_acc: 0.9696\n",
      "Epoch 40/50\n",
      "30000/30000 [==============================] - 1s 30us/step - loss: 0.0242 - acc: 0.9954 - val_loss: 0.1085 - val_acc: 0.9697\n",
      "Epoch 41/50\n",
      "30000/30000 [==============================] - 1s 30us/step - loss: 0.0226 - acc: 0.9957 - val_loss: 0.1065 - val_acc: 0.9694\n",
      "Epoch 42/50\n",
      "30000/30000 [==============================] - 1s 30us/step - loss: 0.0219 - acc: 0.9960 - val_loss: 0.1110 - val_acc: 0.9690\n",
      "Epoch 43/50\n",
      "30000/30000 [==============================] - 1s 30us/step - loss: 0.0197 - acc: 0.9968 - val_loss: 0.1086 - val_acc: 0.9705\n",
      "Epoch 44/50\n",
      "30000/30000 [==============================] - 1s 30us/step - loss: 0.0189 - acc: 0.9966 - val_loss: 0.1091 - val_acc: 0.9701\n",
      "Epoch 45/50\n",
      "30000/30000 [==============================] - 1s 30us/step - loss: 0.0174 - acc: 0.9975 - val_loss: 0.1104 - val_acc: 0.9706\n",
      "Epoch 46/50\n",
      "30000/30000 [==============================] - 1s 29us/step - loss: 0.0163 - acc: 0.9978 - val_loss: 0.1118 - val_acc: 0.9693\n",
      "Epoch 47/50\n",
      "30000/30000 [==============================] - 1s 30us/step - loss: 0.0158 - acc: 0.9981 - val_loss: 0.1094 - val_acc: 0.9699\n",
      "Epoch 48/50\n",
      "30000/30000 [==============================] - 1s 30us/step - loss: 0.0147 - acc: 0.9982 - val_loss: 0.1116 - val_acc: 0.9695\n",
      "Epoch 49/50\n",
      "30000/30000 [==============================] - 1s 30us/step - loss: 0.0139 - acc: 0.9985 - val_loss: 0.1149 - val_acc: 0.9691\n",
      "Epoch 50/50\n",
      "30000/30000 [==============================] - 1s 30us/step - loss: 0.0130 - acc: 0.9987 - val_loss: 0.1144 - val_acc: 0.9693\n"
     ]
    }
   ],
   "source": [
    "history_dense_2 = model_dense_2.fit(X_train, y_train, validation_data=(X_val,y_val_10), \n",
    "                                    epochs=50, batch_size=batchsize)"
   ]
  },
  {
   "cell_type": "code",
   "execution_count": 53,
   "metadata": {},
   "outputs": [
    {
     "data": {
      "image/png": "[encoded data removed]",
      "text/plain": [
       "<Figure size 864x288 with 2 Axes>"
      ]
     },
     "metadata": {},
     "output_type": "display_data"
    }
   ],
   "source": [
    "plot_history_loss_and_acc(history_dense_2)"
   ]
  },
  {
   "cell_type": "code",
   "execution_count": 54,
   "metadata": {},
   "outputs": [
    {
     "name": "stdout",
     "output_type": "stream",
     "text": [
      "              precision    recall  f1-score   support\n",
      "\n",
      "           0       0.98      0.98      0.98       998\n",
      "           1       0.98      0.99      0.98      1127\n",
      "           2       0.97      0.97      0.97       967\n",
      "           3       0.98      0.96      0.97      1060\n",
      "           4       0.96      0.96      0.96       914\n",
      "           5       0.97      0.96      0.97       914\n",
      "           6       0.97      0.98      0.97       951\n",
      "           7       0.97      0.98      0.97      1066\n",
      "           8       0.96      0.97      0.96       995\n",
      "           9       0.96      0.94      0.95      1008\n",
      "\n",
      "   micro avg       0.97      0.97      0.97     10000\n",
      "   macro avg       0.97      0.97      0.97     10000\n",
      "weighted avg       0.97      0.97      0.97     10000\n",
      "\n",
      "0.9693\n"
     ]
    },
    {
     "data": {
      "image/png": "[encoded data removed]",
      "text/plain": [
       "<Figure size 576x576 with 1 Axes>"
      ]
     },
     "metadata": {},
     "output_type": "display_data"
    }
   ],
   "source": [
    "pred_val_dense2 = model_dense_2.predict_classes(X_val)\n",
    "plot_confusion_matrix(y_val, pred_val_dense2)\n",
    "print(classification_report(y_val, pred_val_dense2))\n",
    "acc_fc2 = accuracy_score(y_val, pred_val_dense2)\n",
    "print(acc_fc2)"
   ]
  },
  {
   "cell_type": "code",
   "execution_count": 55,
   "metadata": {},
   "outputs": [],
   "source": [
    "def dense_model_3():\n",
    "    \n",
    "    model = Sequential()  \n",
    "    model.add(Dense(100, activation='relu', input_dim=784))\n",
    "    model.add(Dense(200, activation='relu')) \n",
    "    model.add(Dense(100, activation='relu')) \n",
    "    model.add(Dense(10, activation='softmax'))\n",
    "         \n",
    "    model.compile(loss='categorical_crossentropy', optimizer='adam', metrics=['accuracy'])\n",
    "    \n",
    "    #model.compile(optimizer=RMSprop(lr=0.001),\n",
    "    #         loss='categorical_crossentropy',\n",
    "    #         metrics=['accuracy'])\n",
    "    \n",
    "    return model"
   ]
  },
  {
   "cell_type": "code",
   "execution_count": 56,
   "metadata": {},
   "outputs": [
    {
     "name": "stdout",
     "output_type": "stream",
     "text": [
      "_________________________________________________________________\n",
      "Layer (type)                 Output Shape              Param #   \n",
      "=================================================================\n",
      "dense_7 (Dense)              (None, 100)               78500     \n",
      "_________________________________________________________________\n",
      "dense_8 (Dense)              (None, 200)               20200     \n",
      "_________________________________________________________________\n",
      "dense_9 (Dense)              (None, 100)               20100     \n",
      "_________________________________________________________________\n",
      "dense_10 (Dense)             (None, 10)                1010      \n",
      "=================================================================\n",
      "Total params: 119,810\n",
      "Trainable params: 119,810\n",
      "Non-trainable params: 0\n",
      "_________________________________________________________________\n"
     ]
    }
   ],
   "source": [
    "model_dense_3 = dense_model_3()\n",
    "model_dense_3.summary()"
   ]
  },
  {
   "cell_type": "code",
   "execution_count": 57,
   "metadata": {},
   "outputs": [
    {
     "name": "stdout",
     "output_type": "stream",
     "text": [
      "Train on 30000 samples, validate on 10000 samples\n",
      "Epoch 1/50\n",
      "30000/30000 [==============================] - 1s 43us/step - loss: 1.6207 - acc: 0.5555 - val_loss: 0.7922 - val_acc: 0.8095\n",
      "Epoch 2/50\n",
      "30000/30000 [==============================] - 1s 29us/step - loss: 0.5324 - acc: 0.8552 - val_loss: 0.3672 - val_acc: 0.8914\n",
      "Epoch 3/50\n",
      "30000/30000 [==============================] - 1s 29us/step - loss: 0.3404 - acc: 0.9015 - val_loss: 0.2864 - val_acc: 0.9151\n",
      "Epoch 4/50\n",
      "30000/30000 [==============================] - 1s 29us/step - loss: 0.2773 - acc: 0.9190 - val_loss: 0.2530 - val_acc: 0.9240\n",
      "Epoch 5/50\n",
      "30000/30000 [==============================] - 1s 29us/step - loss: 0.2379 - acc: 0.9301 - val_loss: 0.2213 - val_acc: 0.9347\n",
      "Epoch 6/50\n",
      "30000/30000 [==============================] - 1s 29us/step - loss: 0.2124 - acc: 0.9376 - val_loss: 0.2044 - val_acc: 0.9399\n",
      "Epoch 7/50\n",
      "30000/30000 [==============================] - 1s 29us/step - loss: 0.1919 - acc: 0.9431 - val_loss: 0.1896 - val_acc: 0.9443\n",
      "Epoch 8/50\n",
      "30000/30000 [==============================] - 1s 29us/step - loss: 0.1747 - acc: 0.9491 - val_loss: 0.1753 - val_acc: 0.9490\n",
      "Epoch 9/50\n",
      "30000/30000 [==============================] - 1s 28us/step - loss: 0.1577 - acc: 0.9544 - val_loss: 0.1653 - val_acc: 0.9520\n",
      "Epoch 10/50\n",
      "30000/30000 [==============================] - 1s 29us/step - loss: 0.1437 - acc: 0.9578 - val_loss: 0.1575 - val_acc: 0.9527\n",
      "Epoch 11/50\n",
      "30000/30000 [==============================] - 1s 29us/step - loss: 0.1320 - acc: 0.9611 - val_loss: 0.1474 - val_acc: 0.9568\n",
      "Epoch 12/50\n",
      "30000/30000 [==============================] - 1s 29us/step - loss: 0.1237 - acc: 0.9633 - val_loss: 0.1455 - val_acc: 0.9556\n",
      "Epoch 13/50\n",
      "30000/30000 [==============================] - 1s 29us/step - loss: 0.1129 - acc: 0.9674 - val_loss: 0.1346 - val_acc: 0.9616\n",
      "Epoch 14/50\n",
      "30000/30000 [==============================] - 1s 29us/step - loss: 0.1049 - acc: 0.9692 - val_loss: 0.1287 - val_acc: 0.9621\n",
      "Epoch 15/50\n",
      "30000/30000 [==============================] - 1s 29us/step - loss: 0.0960 - acc: 0.9719 - val_loss: 0.1258 - val_acc: 0.9629\n",
      "Epoch 16/50\n",
      "30000/30000 [==============================] - 1s 29us/step - loss: 0.0877 - acc: 0.9749 - val_loss: 0.1215 - val_acc: 0.9635\n",
      "Epoch 17/50\n",
      "30000/30000 [==============================] - 1s 29us/step - loss: 0.0831 - acc: 0.9761 - val_loss: 0.1263 - val_acc: 0.9623\n",
      "Epoch 18/50\n",
      "30000/30000 [==============================] - 1s 29us/step - loss: 0.0779 - acc: 0.9779 - val_loss: 0.1209 - val_acc: 0.9632\n",
      "Epoch 19/50\n",
      "30000/30000 [==============================] - 1s 29us/step - loss: 0.0714 - acc: 0.9800 - val_loss: 0.1223 - val_acc: 0.9621\n",
      "Epoch 20/50\n",
      "30000/30000 [==============================] - 1s 29us/step - loss: 0.0661 - acc: 0.9813 - val_loss: 0.1137 - val_acc: 0.9661\n",
      "Epoch 21/50\n",
      "30000/30000 [==============================] - 1s 29us/step - loss: 0.0598 - acc: 0.9841 - val_loss: 0.1107 - val_acc: 0.9680\n",
      "Epoch 22/50\n",
      "30000/30000 [==============================] - 1s 29us/step - loss: 0.0562 - acc: 0.9849 - val_loss: 0.1109 - val_acc: 0.9668\n",
      "Epoch 23/50\n",
      "30000/30000 [==============================] - 1s 29us/step - loss: 0.0522 - acc: 0.9865 - val_loss: 0.1102 - val_acc: 0.9673\n",
      "Epoch 24/50\n",
      "30000/30000 [==============================] - 1s 29us/step - loss: 0.0505 - acc: 0.9861 - val_loss: 0.1115 - val_acc: 0.9661\n",
      "Epoch 25/50\n",
      "30000/30000 [==============================] - 1s 29us/step - loss: 0.0459 - acc: 0.9879 - val_loss: 0.1079 - val_acc: 0.9679\n",
      "Epoch 26/50\n",
      "30000/30000 [==============================] - 1s 29us/step - loss: 0.0428 - acc: 0.9893 - val_loss: 0.1101 - val_acc: 0.9667\n",
      "Epoch 27/50\n",
      "30000/30000 [==============================] - 1s 29us/step - loss: 0.0389 - acc: 0.9906 - val_loss: 0.1089 - val_acc: 0.9686\n",
      "Epoch 28/50\n",
      "30000/30000 [==============================] - 1s 29us/step - loss: 0.0358 - acc: 0.9918 - val_loss: 0.1071 - val_acc: 0.9673\n",
      "Epoch 29/50\n",
      "30000/30000 [==============================] - 1s 29us/step - loss: 0.0340 - acc: 0.9912 - val_loss: 0.1089 - val_acc: 0.9679\n",
      "Epoch 30/50\n",
      "30000/30000 [==============================] - 1s 28us/step - loss: 0.0307 - acc: 0.9935 - val_loss: 0.1110 - val_acc: 0.9661\n",
      "Epoch 31/50\n",
      "30000/30000 [==============================] - 1s 29us/step - loss: 0.0289 - acc: 0.9937 - val_loss: 0.1125 - val_acc: 0.9669\n",
      "Epoch 32/50\n",
      "30000/30000 [==============================] - 1s 29us/step - loss: 0.0270 - acc: 0.9938 - val_loss: 0.1099 - val_acc: 0.9693\n",
      "Epoch 33/50\n",
      "30000/30000 [==============================] - 1s 29us/step - loss: 0.0246 - acc: 0.9950 - val_loss: 0.1152 - val_acc: 0.9673\n",
      "Epoch 34/50\n",
      "30000/30000 [==============================] - 1s 29us/step - loss: 0.0225 - acc: 0.9956 - val_loss: 0.1101 - val_acc: 0.9676\n",
      "Epoch 35/50\n",
      "30000/30000 [==============================] - 1s 29us/step - loss: 0.0214 - acc: 0.9960 - val_loss: 0.1108 - val_acc: 0.9682\n",
      "Epoch 36/50\n",
      "30000/30000 [==============================] - 1s 29us/step - loss: 0.0191 - acc: 0.9970 - val_loss: 0.1112 - val_acc: 0.9683\n",
      "Epoch 37/50\n",
      "30000/30000 [==============================] - 1s 29us/step - loss: 0.0179 - acc: 0.9972 - val_loss: 0.1118 - val_acc: 0.9687\n",
      "Epoch 38/50\n",
      "30000/30000 [==============================] - 1s 29us/step - loss: 0.0172 - acc: 0.9973 - val_loss: 0.1164 - val_acc: 0.9668\n",
      "Epoch 39/50\n",
      "30000/30000 [==============================] - 1s 29us/step - loss: 0.0175 - acc: 0.9968 - val_loss: 0.1162 - val_acc: 0.9678\n",
      "Epoch 40/50\n",
      "30000/30000 [==============================] - 1s 29us/step - loss: 0.0155 - acc: 0.9974 - val_loss: 0.1152 - val_acc: 0.9687\n",
      "Epoch 41/50\n",
      "30000/30000 [==============================] - 1s 29us/step - loss: 0.0131 - acc: 0.9985 - val_loss: 0.1141 - val_acc: 0.9692\n",
      "Epoch 42/50\n",
      "30000/30000 [==============================] - 1s 29us/step - loss: 0.0121 - acc: 0.9988 - val_loss: 0.1164 - val_acc: 0.9683\n",
      "Epoch 43/50\n",
      "30000/30000 [==============================] - 1s 29us/step - loss: 0.0119 - acc: 0.9987 - val_loss: 0.1270 - val_acc: 0.9667\n",
      "Epoch 44/50\n",
      "30000/30000 [==============================] - 1s 29us/step - loss: 0.0130 - acc: 0.9978 - val_loss: 0.1189 - val_acc: 0.9686\n",
      "Epoch 45/50\n",
      "30000/30000 [==============================] - 1s 29us/step - loss: 0.0102 - acc: 0.9991 - val_loss: 0.1194 - val_acc: 0.9682\n",
      "Epoch 46/50\n",
      "30000/30000 [==============================] - 1s 29us/step - loss: 0.0093 - acc: 0.9991 - val_loss: 0.1190 - val_acc: 0.9693\n",
      "Epoch 47/50\n",
      "30000/30000 [==============================] - 1s 29us/step - loss: 0.0089 - acc: 0.9992 - val_loss: 0.1201 - val_acc: 0.9691\n",
      "Epoch 48/50\n",
      "30000/30000 [==============================] - 1s 29us/step - loss: 0.0077 - acc: 0.9995 - val_loss: 0.1245 - val_acc: 0.9683\n",
      "Epoch 49/50\n",
      "30000/30000 [==============================] - 1s 29us/step - loss: 0.0070 - acc: 0.9997 - val_loss: 0.1233 - val_acc: 0.9692\n",
      "Epoch 50/50\n",
      "30000/30000 [==============================] - 1s 29us/step - loss: 0.0064 - acc: 0.9997 - val_loss: 0.1238 - val_acc: 0.9688\n"
     ]
    },
    {
     "data": {
      "image/png": "[encoded data removed]",
      "text/plain": [
       "<Figure size 864x288 with 2 Axes>"
      ]
     },
     "metadata": {},
     "output_type": "display_data"
    }
   ],
   "source": [
    "history_dense_3 = model_dense_3.fit(X_train, y_train, validation_data=(X_val,y_val_10), \n",
    "                                    epochs=50, batch_size=batchsize)\n",
    "plot_history_loss_and_acc(history_dense_3)"
   ]
  },
  {
   "cell_type": "code",
   "execution_count": 58,
   "metadata": {},
   "outputs": [
    {
     "name": "stdout",
     "output_type": "stream",
     "text": [
      "              precision    recall  f1-score   support\n",
      "\n",
      "           0       0.99      0.97      0.98       998\n",
      "           1       0.98      0.99      0.98      1127\n",
      "           2       0.97      0.97      0.97       967\n",
      "           3       0.98      0.96      0.97      1060\n",
      "           4       0.97      0.96      0.96       914\n",
      "           5       0.96      0.96      0.96       914\n",
      "           6       0.97      0.98      0.97       951\n",
      "           7       0.97      0.98      0.97      1066\n",
      "           8       0.96      0.97      0.96       995\n",
      "           9       0.95      0.94      0.95      1008\n",
      "\n",
      "   micro avg       0.97      0.97      0.97     10000\n",
      "   macro avg       0.97      0.97      0.97     10000\n",
      "weighted avg       0.97      0.97      0.97     10000\n",
      "\n",
      "0.9688\n"
     ]
    },
    {
     "data": {
      "image/png": "[encoded data removed]",
      "text/plain": [
       "<Figure size 576x576 with 1 Axes>"
      ]
     },
     "metadata": {},
     "output_type": "display_data"
    }
   ],
   "source": [
    "pred_val_dense3 = model_dense_3.predict_classes(X_val)\n",
    "plot_confusion_matrix(y_val, pred_val_dense3)\n",
    "print(classification_report(y_val, pred_val_dense3))\n",
    "acc_fc3 = accuracy_score(y_val, pred_val_dense3)\n",
    "print(acc_fc3)"
   ]
  },
  {
   "cell_type": "code",
   "execution_count": 59,
   "metadata": {},
   "outputs": [
    {
     "data": {
      "text/plain": [
       "(30000, 784)"
      ]
     },
     "execution_count": 59,
     "metadata": {},
     "output_type": "execute_result"
    }
   ],
   "source": [
    "X_train.shape"
   ]
  },
  {
   "cell_type": "code",
   "execution_count": 60,
   "metadata": {},
   "outputs": [],
   "source": [
    "img_rows, img_cols = 28, 28\n",
    "\n",
    "np.random.seed(5)"
   ]
  },
  {
   "cell_type": "code",
   "execution_count": 61,
   "metadata": {},
   "outputs": [],
   "source": [
    "X_train = X_train.values.reshape(X_train.shape[0], img_rows, img_cols, 1)\n",
    "X_val = X_val.values.reshape(X_val.shape[0], img_rows, img_cols, 1)\n",
    "\n",
    "input_shape = (img_rows, img_cols, 1)"
   ]
  },
  {
   "cell_type": "code",
   "execution_count": 62,
   "metadata": {},
   "outputs": [
    {
     "data": {
      "text/plain": [
       "(30000, 28, 28, 1)"
      ]
     },
     "execution_count": 62,
     "metadata": {},
     "output_type": "execute_result"
    }
   ],
   "source": [
    "X_train.shape"
   ]
  },
  {
   "cell_type": "code",
   "execution_count": 63,
   "metadata": {},
   "outputs": [
    {
     "data": {
      "text/plain": [
       "(30000, 10)"
      ]
     },
     "execution_count": 63,
     "metadata": {},
     "output_type": "execute_result"
    }
   ],
   "source": [
    "y_train.shape"
   ]
  },
  {
   "cell_type": "code",
   "execution_count": 64,
   "metadata": {},
   "outputs": [],
   "source": [
    "batchsize = 128\n",
    "epochs = 12"
   ]
  },
  {
   "cell_type": "code",
   "execution_count": 65,
   "metadata": {},
   "outputs": [],
   "source": [
    "activation = 'relu'\n",
    "adadelta = Adadelta()\n",
    "loss = categorical_crossentropy"
   ]
  },
  {
   "cell_type": "code",
   "execution_count": 66,
   "metadata": {},
   "outputs": [],
   "source": [
    "def cnn_model_1(activation):\n",
    "    \n",
    "    model = Sequential()\n",
    "    \n",
    "    model.add(Conv2D(32, kernel_size=(3, 3), activation=activation, input_shape=input_shape)) \n",
    "    \n",
    "    model.add(Conv2D(64, (3, 3), activation=activation))\n",
    "    model.add(MaxPooling2D(pool_size=(2, 2)))\n",
    "    model.add(Dropout(0.25))\n",
    " \n",
    "    model.add(Flatten())\n",
    "\n",
    "    model.add(Dense(128, activation=activation))\n",
    "    model.add(Dropout(0.5))\n",
    "\n",
    "    model.add(Dense(10, activation='softmax'))\n",
    "\n",
    "    model.compile(loss=loss, optimizer=adadelta, metrics=['accuracy'])\n",
    "\n",
    "    return model"
   ]
  },
  {
   "cell_type": "code",
   "execution_count": 67,
   "metadata": {},
   "outputs": [
    {
     "name": "stdout",
     "output_type": "stream",
     "text": [
      "WARNING:tensorflow:From /opt/conda/lib/python3.6/site-packages/keras/backend/tensorflow_backend.py:3445: calling dropout (from tensorflow.python.ops.nn_ops) with keep_prob is deprecated and will be removed in a future version.\n",
      "Instructions for updating:\n",
      "Please use `rate` instead of `keep_prob`. Rate should be set to `rate = 1 - keep_prob`.\n",
      "_________________________________________________________________\n",
      "Layer (type)                 Output Shape              Param #   \n",
      "=================================================================\n",
      "conv2d_1 (Conv2D)            (None, 26, 26, 32)        320       \n",
      "_________________________________________________________________\n",
      "conv2d_2 (Conv2D)            (None, 24, 24, 64)        18496     \n",
      "_________________________________________________________________\n",
      "max_pooling2d_1 (MaxPooling2 (None, 12, 12, 64)        0         \n",
      "_________________________________________________________________\n",
      "dropout_1 (Dropout)          (None, 12, 12, 64)        0         \n",
      "_________________________________________________________________\n",
      "flatten_1 (Flatten)          (None, 9216)              0         \n",
      "_________________________________________________________________\n",
      "dense_11 (Dense)             (None, 128)               1179776   \n",
      "_________________________________________________________________\n",
      "dropout_2 (Dropout)          (None, 128)               0         \n",
      "_________________________________________________________________\n",
      "dense_12 (Dense)             (None, 10)                1290      \n",
      "=================================================================\n",
      "Total params: 1,199,882\n",
      "Trainable params: 1,199,882\n",
      "Non-trainable params: 0\n",
      "_________________________________________________________________\n"
     ]
    }
   ],
   "source": [
    "model_cnn_1 = cnn_model_1(activation)\n",
    "model_cnn_1.summary()"
   ]
  },
  {
   "cell_type": "code",
   "execution_count": 68,
   "metadata": {},
   "outputs": [
    {
     "name": "stdout",
     "output_type": "stream",
     "text": [
      "Train on 30000 samples, validate on 10000 samples\n",
      "Epoch 1/12\n",
      "30000/30000 [==============================] - 6s 197us/step - loss: 0.3955 - acc: 0.8779 - val_loss: 0.1062 - val_acc: 0.9671\n",
      "Epoch 2/12\n",
      "30000/30000 [==============================] - 3s 91us/step - loss: 0.1205 - acc: 0.9646 - val_loss: 0.0603 - val_acc: 0.9814\n",
      "Epoch 3/12\n",
      "30000/30000 [==============================] - 3s 92us/step - loss: 0.0883 - acc: 0.9732 - val_loss: 0.0683 - val_acc: 0.9791\n",
      "Epoch 4/12\n",
      "30000/30000 [==============================] - 3s 92us/step - loss: 0.0704 - acc: 0.9780 - val_loss: 0.0433 - val_acc: 0.9873\n",
      "Epoch 5/12\n",
      "30000/30000 [==============================] - 3s 92us/step - loss: 0.0582 - acc: 0.9824 - val_loss: 0.0501 - val_acc: 0.9856\n",
      "Epoch 6/12\n",
      "30000/30000 [==============================] - 3s 92us/step - loss: 0.0524 - acc: 0.9843 - val_loss: 0.0416 - val_acc: 0.9872\n",
      "Epoch 7/12\n",
      "30000/30000 [==============================] - 3s 92us/step - loss: 0.0435 - acc: 0.9862 - val_loss: 0.0451 - val_acc: 0.9861\n",
      "Epoch 8/12\n",
      "30000/30000 [==============================] - 3s 93us/step - loss: 0.0376 - acc: 0.9889 - val_loss: 0.0399 - val_acc: 0.9881\n",
      "Epoch 9/12\n",
      "30000/30000 [==============================] - 3s 93us/step - loss: 0.0358 - acc: 0.9886 - val_loss: 0.0388 - val_acc: 0.9883\n",
      "Epoch 10/12\n",
      "30000/30000 [==============================] - 3s 92us/step - loss: 0.0315 - acc: 0.9896 - val_loss: 0.0445 - val_acc: 0.9867\n",
      "Epoch 11/12\n",
      "30000/30000 [==============================] - 3s 92us/step - loss: 0.0300 - acc: 0.9900 - val_loss: 0.0419 - val_acc: 0.9879\n",
      "Epoch 12/12\n",
      "30000/30000 [==============================] - 3s 91us/step - loss: 0.0279 - acc: 0.9917 - val_loss: 0.0424 - val_acc: 0.9883\n"
     ]
    }
   ],
   "source": [
    "history_cnn_1 = model_cnn_1.fit(X_train, y_train, validation_data=(X_val,y_val_10), \n",
    "                                   epochs=epochs, batch_size=batchsize, verbose=1)"
   ]
  },
  {
   "cell_type": "code",
   "execution_count": 69,
   "metadata": {},
   "outputs": [
    {
     "data": {
      "image/png": "[encoded data removed]",
      "text/plain": [
       "<Figure size 864x288 with 2 Axes>"
      ]
     },
     "metadata": {},
     "output_type": "display_data"
    }
   ],
   "source": [
    "plot_history_loss_and_acc(history_cnn_1)"
   ]
  },
  {
   "cell_type": "code",
   "execution_count": 70,
   "metadata": {},
   "outputs": [
    {
     "name": "stdout",
     "output_type": "stream",
     "text": [
      "              precision    recall  f1-score   support\n",
      "\n",
      "           0       0.99      1.00      1.00       998\n",
      "           1       1.00      1.00      1.00      1127\n",
      "           2       0.98      0.99      0.99       967\n",
      "           3       0.99      0.99      0.99      1060\n",
      "           4       0.99      0.98      0.99       914\n",
      "           5       0.97      1.00      0.99       914\n",
      "           6       0.99      0.99      0.99       951\n",
      "           7       0.98      0.99      0.99      1066\n",
      "           8       0.99      0.99      0.99       995\n",
      "           9       0.98      0.97      0.98      1008\n",
      "\n",
      "   micro avg       0.99      0.99      0.99     10000\n",
      "   macro avg       0.99      0.99      0.99     10000\n",
      "weighted avg       0.99      0.99      0.99     10000\n",
      "\n",
      "0.9883\n"
     ]
    },
    {
     "data": {
      "image/png": "[encoded data removed]",
      "text/plain": [
       "<Figure size 576x576 with 1 Axes>"
      ]
     },
     "metadata": {},
     "output_type": "display_data"
    }
   ],
   "source": [
    "pred_val_cnn1 = model_cnn_1.predict_classes(X_val)\n",
    "plot_confusion_matrix(y_val, pred_val_cnn1)\n",
    "print(classification_report(y_val, pred_val_cnn1))\n",
    "acc_cnn1 = accuracy_score(y_val, pred_val_cnn1)\n",
    "print(acc_cnn1)"
   ]
  },
  {
   "cell_type": "code",
   "execution_count": 71,
   "metadata": {},
   "outputs": [],
   "source": [
    "batch_size=90\n",
    "epochs=30"
   ]
  },
  {
   "cell_type": "code",
   "execution_count": 72,
   "metadata": {},
   "outputs": [],
   "source": [
    "def cnn_model_2(optimizer,loss):\n",
    "\n",
    "    model = Sequential()\n",
    "\n",
    "    model.add(Conv2D(32, (3, 3), padding = 'Same', activation=\"relu\", input_shape=input_shape ))\n",
    "    model.add(MaxPooling2D(pool_size = (2, 2)))\n",
    "\n",
    "    model.add(Conv2D(32, (3, 3), activation=\"relu\"))\n",
    "    model.add(MaxPooling2D(pool_size = (2, 2)))\n",
    "\n",
    "    model.add(Flatten())\n",
    "\n",
    "    model.add(Dense(256, activation=activation))\n",
    "    model.add(Dense(10, activation='softmax'))\n",
    "\n",
    "    model.compile(optimizer = optimizer, loss = loss, metrics = ['accuracy']) \n",
    "\n",
    "    return model"
   ]
  },
  {
   "cell_type": "code",
   "execution_count": 73,
   "metadata": {},
   "outputs": [
    {
     "name": "stdout",
     "output_type": "stream",
     "text": [
      "_________________________________________________________________\n",
      "Layer (type)                 Output Shape              Param #   \n",
      "=================================================================\n",
      "conv2d_3 (Conv2D)            (None, 28, 28, 32)        320       \n",
      "_________________________________________________________________\n",
      "max_pooling2d_2 (MaxPooling2 (None, 14, 14, 32)        0         \n",
      "_________________________________________________________________\n",
      "conv2d_4 (Conv2D)            (None, 12, 12, 32)        9248      \n",
      "_________________________________________________________________\n",
      "max_pooling2d_3 (MaxPooling2 (None, 6, 6, 32)          0         \n",
      "_________________________________________________________________\n",
      "flatten_2 (Flatten)          (None, 1152)              0         \n",
      "_________________________________________________________________\n",
      "dense_13 (Dense)             (None, 256)               295168    \n",
      "_________________________________________________________________\n",
      "dense_14 (Dense)             (None, 10)                2570      \n",
      "=================================================================\n",
      "Total params: 307,306\n",
      "Trainable params: 307,306\n",
      "Non-trainable params: 0\n",
      "_________________________________________________________________\n"
     ]
    }
   ],
   "source": [
    "model_cnn_2 = cnn_model_2(adadelta, categorical_crossentropy)\n",
    "model_cnn_2.summary()"
   ]
  },
  {
   "cell_type": "code",
   "execution_count": 74,
   "metadata": {},
   "outputs": [
    {
     "name": "stdout",
     "output_type": "stream",
     "text": [
      "Train on 30000 samples, validate on 10000 samples\n",
      "Epoch 1/30\n",
      "30000/30000 [==============================] - 3s 90us/step - loss: 0.3580 - acc: 0.8891 - val_loss: 0.1650 - val_acc: 0.9443\n",
      "Epoch 2/30\n",
      "30000/30000 [==============================] - 2s 72us/step - loss: 0.0826 - acc: 0.9737 - val_loss: 0.0740 - val_acc: 0.9775\n",
      "Epoch 3/30\n",
      "30000/30000 [==============================] - 2s 72us/step - loss: 0.0547 - acc: 0.9826 - val_loss: 0.0819 - val_acc: 0.9747\n",
      "Epoch 4/30\n",
      "30000/30000 [==============================] - 2s 72us/step - loss: 0.0398 - acc: 0.9877 - val_loss: 0.0871 - val_acc: 0.9719\n",
      "Epoch 5/30\n",
      "30000/30000 [==============================] - 2s 72us/step - loss: 0.0307 - acc: 0.9903 - val_loss: 0.0447 - val_acc: 0.9855\n",
      "Epoch 6/30\n",
      "30000/30000 [==============================] - 2s 72us/step - loss: 0.0243 - acc: 0.9929 - val_loss: 0.0397 - val_acc: 0.9879\n",
      "Epoch 7/30\n",
      "30000/30000 [==============================] - 2s 72us/step - loss: 0.0197 - acc: 0.9940 - val_loss: 0.0445 - val_acc: 0.9868\n",
      "Epoch 8/30\n",
      "30000/30000 [==============================] - 2s 72us/step - loss: 0.0151 - acc: 0.9950 - val_loss: 0.0443 - val_acc: 0.9879\n",
      "Epoch 9/30\n",
      "30000/30000 [==============================] - 2s 71us/step - loss: 0.0127 - acc: 0.9961 - val_loss: 0.0504 - val_acc: 0.9860\n",
      "Epoch 10/30\n",
      "30000/30000 [==============================] - 2s 71us/step - loss: 0.0086 - acc: 0.9972 - val_loss: 0.0474 - val_acc: 0.9870\n",
      "Epoch 11/30\n",
      "30000/30000 [==============================] - 2s 72us/step - loss: 0.0080 - acc: 0.9977 - val_loss: 0.0420 - val_acc: 0.9886\n",
      "Epoch 12/30\n",
      "30000/30000 [==============================] - 2s 72us/step - loss: 0.0060 - acc: 0.9982 - val_loss: 0.0409 - val_acc: 0.9905\n",
      "Epoch 13/30\n",
      "30000/30000 [==============================] - 2s 72us/step - loss: 0.0045 - acc: 0.9987 - val_loss: 0.0435 - val_acc: 0.9902\n",
      "Epoch 14/30\n",
      "30000/30000 [==============================] - 2s 72us/step - loss: 0.0033 - acc: 0.9991 - val_loss: 0.0421 - val_acc: 0.9909\n",
      "Epoch 15/30\n",
      "30000/30000 [==============================] - 2s 72us/step - loss: 0.0025 - acc: 0.9995 - val_loss: 0.0545 - val_acc: 0.9881\n",
      "Epoch 16/30\n",
      "30000/30000 [==============================] - 2s 72us/step - loss: 0.0017 - acc: 0.9996 - val_loss: 0.0499 - val_acc: 0.9899\n",
      "Epoch 17/30\n",
      "30000/30000 [==============================] - 2s 72us/step - loss: 0.0016 - acc: 0.9995 - val_loss: 0.0613 - val_acc: 0.9871\n",
      "Epoch 18/30\n",
      "30000/30000 [==============================] - 2s 72us/step - loss: 0.0012 - acc: 0.9997 - val_loss: 0.0596 - val_acc: 0.9885\n",
      "Epoch 19/30\n",
      "30000/30000 [==============================] - 2s 72us/step - loss: 0.0012 - acc: 0.9998 - val_loss: 0.0552 - val_acc: 0.9899\n",
      "Epoch 20/30\n",
      "30000/30000 [==============================] - 2s 72us/step - loss: 8.1117e-04 - acc: 0.9998 - val_loss: 0.0541 - val_acc: 0.9907\n",
      "Epoch 21/30\n",
      "30000/30000 [==============================] - 2s 73us/step - loss: 5.5343e-04 - acc: 0.9998 - val_loss: 0.0535 - val_acc: 0.9908\n",
      "Epoch 22/30\n",
      "30000/30000 [==============================] - 2s 78us/step - loss: 3.1537e-04 - acc: 1.0000 - val_loss: 0.0539 - val_acc: 0.9912\n",
      "Epoch 23/30\n",
      "30000/30000 [==============================] - 2s 74us/step - loss: 1.5440e-04 - acc: 1.0000 - val_loss: 0.0546 - val_acc: 0.9910\n",
      "Epoch 24/30\n",
      "30000/30000 [==============================] - 2s 77us/step - loss: 3.0043e-04 - acc: 0.9999 - val_loss: 0.0539 - val_acc: 0.9914\n",
      "Epoch 25/30\n",
      "30000/30000 [==============================] - 2s 74us/step - loss: 1.4618e-04 - acc: 1.0000 - val_loss: 0.0562 - val_acc: 0.9911\n",
      "Epoch 26/30\n",
      "30000/30000 [==============================] - 2s 73us/step - loss: 1.1755e-04 - acc: 1.0000 - val_loss: 0.0565 - val_acc: 0.9909\n",
      "Epoch 27/30\n",
      "30000/30000 [==============================] - 2s 71us/step - loss: 5.8380e-05 - acc: 1.0000 - val_loss: 0.0562 - val_acc: 0.9911\n",
      "Epoch 28/30\n",
      "30000/30000 [==============================] - 2s 72us/step - loss: 4.8816e-05 - acc: 1.0000 - val_loss: 0.0573 - val_acc: 0.9909\n",
      "Epoch 29/30\n",
      "30000/30000 [==============================] - 2s 72us/step - loss: 3.7272e-05 - acc: 1.0000 - val_loss: 0.0573 - val_acc: 0.9909\n",
      "Epoch 30/30\n",
      "30000/30000 [==============================] - 2s 72us/step - loss: 3.4550e-05 - acc: 1.0000 - val_loss: 0.0577 - val_acc: 0.9907\n"
     ]
    },
    {
     "data": {
      "image/png": "[encoded data removed]",
      "text/plain": [
       "<Figure size 864x288 with 2 Axes>"
      ]
     },
     "metadata": {},
     "output_type": "display_data"
    }
   ],
   "source": [
    "history_cnn_2 = model_cnn_2.fit(X_train, y_train, validation_data=(X_val,y_val_10), \n",
    "                                epochs=epochs, batch_size=batchsize, verbose=1)\n",
    "plot_history_loss_and_acc(history_cnn_2)"
   ]
  },
  {
   "cell_type": "code",
   "execution_count": 75,
   "metadata": {},
   "outputs": [
    {
     "name": "stdout",
     "output_type": "stream",
     "text": [
      "              precision    recall  f1-score   support\n",
      "\n",
      "           0       0.99      1.00      1.00       998\n",
      "           1       0.99      1.00      1.00      1127\n",
      "           2       0.99      0.99      0.99       967\n",
      "           3       0.99      0.99      0.99      1060\n",
      "           4       0.99      0.99      0.99       914\n",
      "           5       0.99      0.99      0.99       914\n",
      "           6       1.00      0.99      0.99       951\n",
      "           7       0.99      0.99      0.99      1066\n",
      "           8       0.99      0.99      0.99       995\n",
      "           9       0.99      0.98      0.98      1008\n",
      "\n",
      "   micro avg       0.99      0.99      0.99     10000\n",
      "   macro avg       0.99      0.99      0.99     10000\n",
      "weighted avg       0.99      0.99      0.99     10000\n",
      "\n",
      "0.9907\n"
     ]
    },
    {
     "data": {
      "image/png": "[encoded data removed]",
      "text/plain": [
       "<Figure size 576x576 with 1 Axes>"
      ]
     },
     "metadata": {},
     "output_type": "display_data"
    }
   ],
   "source": [
    "pred_val_cnn2 = model_cnn_2.predict_classes(X_val)\n",
    "plot_confusion_matrix(y_val, pred_val_cnn2)\n",
    "print(classification_report(y_val, pred_val_cnn2))\n",
    "acc_cnn2 = accuracy_score(y_val, pred_val_cnn2)\n",
    "print(acc_cnn2)"
   ]
  },
  {
   "cell_type": "code",
   "execution_count": 76,
   "metadata": {},
   "outputs": [],
   "source": [
    "sample_submission = pd.read_csv('../input/sample_submission.csv')\n",
    "if mode == \"edit\" :\n",
    "    X = X[:nr_samples//2]\n",
    "    y = y[:nr_samples//2]\n",
    "    X_test = X_test[:nr_samples//2]\n",
    "    sample_submission = sample_submission[:nr_samples//2]\n"
   ]
  },
  {
   "cell_type": "code",
   "execution_count": 77,
   "metadata": {},
   "outputs": [
    {
     "name": "stdout",
     "output_type": "stream",
     "text": [
      "(42000, 784)\n",
      "(42000,)\n",
      "(28000, 784)\n"
     ]
    }
   ],
   "source": [
    "print(X.shape)\n",
    "print(y.shape)\n",
    "print(X_test.shape)"
   ]
  },
  {
   "cell_type": "code",
   "execution_count": 78,
   "metadata": {},
   "outputs": [
    {
     "name": "stdout",
     "output_type": "stream",
     "text": [
      "{'penalty': 'l1', 'tol': 0.1}\n"
     ]
    },
    {
     "data": {
      "text/plain": [
       "Perceptron(alpha=0.0001, class_weight=None, early_stopping=False, eta0=1.0,\n",
       "      fit_intercept=True, max_iter=None, n_iter=None, n_iter_no_change=5,\n",
       "      n_jobs=None, penalty='l1', random_state=0, shuffle=True, tol=0.1,\n",
       "      validation_fraction=0.1, verbose=0, warm_start=False)"
      ]
     },
     "execution_count": 78,
     "metadata": {},
     "output_type": "execute_result"
    }
   ],
   "source": [
    "print(GridCV_Perceptron.best_params_)\n",
    "GridCV_Perceptron.best_estimator_.fit(X,y)"
   ]
  },
  {
   "cell_type": "code",
   "execution_count": 79,
   "metadata": {},
   "outputs": [],
   "source": [
    "pred_test_perc = GridCV_Perceptron.best_estimator_.predict(X_test)\n",
    "result_perc = pd.DataFrame({'ImageId':sample_submission.ImageId, 'Label':pred_test_perc})\n",
    "result_perc.to_csv(\"subm_perc.csv\",index=False)"
   ]
  },
  {
   "cell_type": "code",
   "execution_count": 80,
   "metadata": {},
   "outputs": [
    {
     "name": "stdout",
     "output_type": "stream",
     "text": [
      "{'C': 0.014, 'multi_class': 'multinomial', 'penalty': 'l1', 'solver': 'saga', 'tol': 0.1}\n"
     ]
    },
    {
     "data": {
      "text/plain": [
       "LogisticRegression(C=0.014, class_weight=None, dual=False, fit_intercept=True,\n",
       "          intercept_scaling=1, max_iter=100, multi_class='multinomial',\n",
       "          n_jobs=None, penalty='l1', random_state=0, solver='saga',\n",
       "          tol=0.1, verbose=0, warm_start=False)"
      ]
     },
     "execution_count": 80,
     "metadata": {},
     "output_type": "execute_result"
    }
   ],
   "source": [
    "print(GridCV_LR.best_params_)\n",
    "GridCV_LR.best_estimator_.fit(X,y)"
   ]
  },
  {
   "cell_type": "code",
   "execution_count": 81,
   "metadata": {},
   "outputs": [],
   "source": [
    "pred_test_lr = GridCV_LR.best_estimator_.predict(X_test)\n",
    "result_lr = pd.DataFrame({'ImageId':sample_submission.ImageId, 'Label':pred_test_lr})\n",
    "result_lr.to_csv(\"subm_lr.csv\",index=False)"
   ]
  },
  {
   "cell_type": "code",
   "execution_count": 82,
   "metadata": {},
   "outputs": [
    {
     "data": {
      "text/plain": [
       "KNeighborsClassifier(algorithm='auto', leaf_size=30, metric='minkowski',\n",
       "           metric_params=None, n_jobs=None, n_neighbors=10, p=2,\n",
       "           weights='uniform')"
      ]
     },
     "execution_count": 82,
     "metadata": {},
     "output_type": "execute_result"
    }
   ],
   "source": [
    "clf_knn.fit(X,y)"
   ]
  },
  {
   "cell_type": "code",
   "execution_count": 83,
   "metadata": {},
   "outputs": [],
   "source": [
    "pred_test_knn = clf_knn.predict(X_test)\n",
    "result_knn = pd.DataFrame({'ImageId':sample_submission.ImageId, 'Label':pred_test_knn})\n",
    "result_knn.to_csv(\"subm_knn.csv\",index=False)"
   ]
  },
  {
   "cell_type": "code",
   "execution_count": 84,
   "metadata": {},
   "outputs": [
    {
     "name": "stdout",
     "output_type": "stream",
     "text": [
      "{'max_depth': 15, 'max_features': 100, 'min_samples_split': 5, 'n_estimators': 50}\n"
     ]
    },
    {
     "data": {
      "text/plain": [
       "RandomForestClassifier(bootstrap=True, class_weight=None, criterion='gini',\n",
       "            max_depth=15, max_features=100, max_leaf_nodes=None,\n",
       "            min_impurity_decrease=0.0, min_impurity_split=None,\n",
       "            min_samples_leaf=1, min_samples_split=5,\n",
       "            min_weight_fraction_leaf=0.0, n_estimators=50, n_jobs=None,\n",
       "            oob_score=False, random_state=0, verbose=0, warm_start=False)"
      ]
     },
     "execution_count": 84,
     "metadata": {},
     "output_type": "execute_result"
    }
   ],
   "source": [
    "print(GridCV_RF.best_params_)\n",
    "GridCV_RF.best_estimator_.fit(X,y)"
   ]
  },
  {
   "cell_type": "code",
   "execution_count": 85,
   "metadata": {},
   "outputs": [],
   "source": [
    "pred_test_rf = GridCV_RF.best_estimator_.predict(X_test)\n",
    "result_rf = pd.DataFrame({'ImageId':sample_submission.ImageId, 'Label':pred_test_rf})\n",
    "result_rf.to_csv(\"subm_rf.csv\",index=False)"
   ]
  },
  {
   "cell_type": "code",
   "execution_count": 86,
   "metadata": {},
   "outputs": [
    {
     "data": {
      "text/plain": [
       "SVC(C=5, cache_size=200, class_weight=None, coef0=0.0,\n",
       "  decision_function_shape='ovr', degree=3, gamma=0.05, kernel='rbf',\n",
       "  max_iter=-1, probability=False, random_state=0, shrinking=True,\n",
       "  tol=0.001, verbose=False)"
      ]
     },
     "execution_count": 86,
     "metadata": {},
     "output_type": "execute_result"
    }
   ],
   "source": [
    "clf_svm.fit(X,y)"
   ]
  },
  {
   "cell_type": "code",
   "execution_count": 87,
   "metadata": {},
   "outputs": [],
   "source": [
    "pred_test_svm = clf_svm.predict(X_test)\n",
    "result_svm = pd.DataFrame({'ImageId':sample_submission.ImageId, 'Label':pred_test_svm})\n",
    "result_svm.to_csv(\"subm_svm.csv\",index=False)"
   ]
  },
  {
   "cell_type": "code",
   "execution_count": 88,
   "metadata": {},
   "outputs": [
    {
     "name": "stdout",
     "output_type": "stream",
     "text": [
      "{'alpha': 0.0001, 'batch_size': 2000, 'learning_rate_init': 0.06, 'max_iter': 600, 'solver': 'sgd', 'tol': 0.0001}\n"
     ]
    },
    {
     "data": {
      "text/plain": [
       "MLPClassifier(activation='logistic', alpha=0.0001, batch_size=2000,\n",
       "       beta_1=0.9, beta_2=0.999, early_stopping=False, epsilon=1e-08,\n",
       "       hidden_layer_sizes=(200,), learning_rate='constant',\n",
       "       learning_rate_init=0.06, max_iter=600, momentum=0.9,\n",
       "       n_iter_no_change=10, nesterovs_momentum=True, power_t=0.5,\n",
       "       random_state=0, shuffle=True, solver='sgd', tol=0.0001,\n",
       "       validation_fraction=0.1, verbose=False, warm_start=False)"
      ]
     },
     "execution_count": 88,
     "metadata": {},
     "output_type": "execute_result"
    }
   ],
   "source": [
    "print(GridCV_MLP.best_params_)\n",
    "GridCV_MLP.best_estimator_.fit(X,y)"
   ]
  },
  {
   "cell_type": "code",
   "execution_count": 89,
   "metadata": {},
   "outputs": [],
   "source": [
    "pred_test_mlp = GridCV_MLP.best_estimator_.predict(X_test)\n",
    "result_mlp = pd.DataFrame({'ImageId':sample_submission.ImageId, 'Label':pred_test_mlp})\n",
    "result_mlp.to_csv(\"subm_mlp.csv\",index=False)"
   ]
  },
  {
   "cell_type": "code",
   "execution_count": 90,
   "metadata": {},
   "outputs": [],
   "source": [
    "y = to_categorical(y, 10)"
   ]
  },
  {
   "cell_type": "code",
   "execution_count": 91,
   "metadata": {},
   "outputs": [
    {
     "name": "stdout",
     "output_type": "stream",
     "text": [
      "Epoch 1/1\n",
      "42000/42000 [==============================] - 5s 114us/step - loss: 0.1157 - acc: 0.9649\n"
     ]
    }
   ],
   "source": [
    "model_dense_1.fit(X,y)\n",
    "pred_test_fc1 = model_dense_1.predict_classes(X_test)\n",
    "result_fc1 = pd.DataFrame({'ImageId':sample_submission.ImageId, 'Label':pred_test_fc1})\n",
    "result_fc1.to_csv(\"dense_1.csv\",index=False)"
   ]
  },
  {
   "cell_type": "code",
   "execution_count": 92,
   "metadata": {},
   "outputs": [
    {
     "name": "stdout",
     "output_type": "stream",
     "text": [
      "Epoch 1/1\n",
      "42000/42000 [==============================] - 5s 122us/step - loss: 0.1154 - acc: 0.9645\n"
     ]
    }
   ],
   "source": [
    "model_dense_2.fit(X,y)\n",
    "pred_test_fc2 = model_dense_2.predict_classes(X_test)\n",
    "result_fc2 = pd.DataFrame({'ImageId':sample_submission.ImageId, 'Label':pred_test_fc2})\n",
    "result_fc2.to_csv(\"dense_2.csv\",index=False)"
   ]
  },
  {
   "cell_type": "code",
   "execution_count": 93,
   "metadata": {},
   "outputs": [
    {
     "name": "stdout",
     "output_type": "stream",
     "text": [
      "Epoch 1/1\n",
      "42000/42000 [==============================] - 6s 133us/step - loss: 0.1451 - acc: 0.9578\n"
     ]
    }
   ],
   "source": [
    "model_dense_3.fit(X,y)\n",
    "pred_test_fc3 = model_dense_3.predict_classes(X_test)\n",
    "result_fc3 = pd.DataFrame({'ImageId':sample_submission.ImageId, 'Label':pred_test_fc3})\n",
    "result_fc3.to_csv(\"dense_3.csv\",index=False)"
   ]
  },
  {
   "cell_type": "code",
   "execution_count": 94,
   "metadata": {},
   "outputs": [],
   "source": [
    "X = X.values.reshape(X.shape[0], img_rows, img_cols, 1)\n",
    "X_test = X_test.values.reshape(X_test.shape[0], img_rows, img_cols, 1)"
   ]
  },
  {
   "cell_type": "code",
   "execution_count": 95,
   "metadata": {},
   "outputs": [
    {
     "data": {
      "text/plain": [
       "<keras.callbacks.History at 0x7f07856c2f98>"
      ]
     },
     "execution_count": 95,
     "metadata": {},
     "output_type": "execute_result"
    }
   ],
   "source": [
    "batchsize = 128\n",
    "epochs = 12\n",
    "model_cnn_1 = cnn_model_1('relu')\n",
    "model_cnn_1.fit(X, y, epochs=epochs, batch_size=batchsize, verbose=0)"
   ]
  },
  {
   "cell_type": "code",
   "execution_count": 96,
   "metadata": {},
   "outputs": [],
   "source": [
    "pred_test_cnn_1 = model_cnn_1.predict(X_test)\n",
    "pred_test_cnn_1 = np.argmax(pred_test_cnn_1,axis=1)\n",
    "result_cnn_1 = pd.DataFrame({'ImageId':sample_submission.ImageId, 'Label':pred_test_cnn_1})\n",
    "result_cnn_1.to_csv(\"subm_cnn_1.csv\",index=False)"
   ]
  },
  {
   "cell_type": "code",
   "execution_count": 97,
   "metadata": {},
   "outputs": [
    {
     "data": {
      "text/plain": [
       "<keras.callbacks.History at 0x7f076549e5f8>"
      ]
     },
     "execution_count": 97,
     "metadata": {},
     "output_type": "execute_result"
    }
   ],
   "source": [
    "batch_size=90\n",
    "epochs=30\n",
    "model_cnn_2 = cnn_model_2(adadelta, categorical_crossentropy)\n",
    "model_cnn_2.fit(X, y, epochs=epochs, batch_size=batchsize, verbose=0)"
   ]
  },
  {
   "cell_type": "code",
   "execution_count": 98,
   "metadata": {},
   "outputs": [],
   "source": [
    "pred_test_cnn_2 = model_cnn_2.predict(X_test)\n",
    "pred_test_cnn_2 = np.argmax(pred_test_cnn_2,axis=1)\n",
    "result_cnn_2 = pd.DataFrame({'ImageId':sample_submission.ImageId, 'Label':pred_test_cnn_2})\n",
    "result_cnn_2.to_csv(\"subm_cnn_2.csv\",index=False)"
   ]
  },
  {
   "cell_type": "code",
   "execution_count": 99,
   "metadata": {},
   "outputs": [],
   "source": [
    "list_classifiers = ['PERC','LR','KNN','RF','SVM',\n",
    "                    'MLP','DENSE1','DENSE2','DENSE3',\n",
    "                    'CNN1','CNN2']"
   ]
  },
  {
   "cell_type": "code",
   "execution_count": 100,
   "metadata": {},
   "outputs": [],
   "source": [
    "val_scores = [acc_perc, acc_lr, acc_knn, acc_rf, \n",
    "               acc_svm, acc_mlp, acc_fc1, acc_fc2, \n",
    "               acc_fc3, acc_cnn1, acc_cnn2]"
   ]
  },
  {
   "cell_type": "code",
   "execution_count": 101,
   "metadata": {},
   "outputs": [
    {
     "ename": "NameError",
     "evalue": "name 'score_perc' is not defined",
     "output_type": "error",
     "traceback": [
      "\u001b[0;31m---------------------------------------------------------------------------\u001b[0m",
      "\u001b[0;31mNameError\u001b[0m                                 Traceback (most recent call last)",
      "\u001b[0;32m<ipython-input-101-cd52a6e52179>\u001b[0m in \u001b[0;36m<module>\u001b[0;34m()\u001b[0m\n\u001b[0;32m----> 1\u001b[0;31m test_scores = [score_perc, score_lr, score_knn, score_rf, score_svm, score_mlp,\n\u001b[0m\u001b[1;32m      2\u001b[0m                score_dns_1, score_dns_2, score_dns_3, score_cnn_1, score_cnn_2]\n",
      "\u001b[0;31mNameError\u001b[0m: name 'score_perc' is not defined"
     ]
    }
   ],
   "source": [
    "test_scores = [score_perc, score_lr, score_knn, score_rf, score_svm, score_mlp,\n",
    "               score_dns_1, score_dns_2, score_dns_3, score_cnn_1, score_cnn_2]\n"
   ]
  },
  {
   "cell_type": "code",
   "execution_count": 102,
   "metadata": {},
   "outputs": [
    {
     "ename": "NameError",
     "evalue": "name 'go' is not defined",
     "output_type": "error",
     "traceback": [
      "\u001b[0;31m---------------------------------------------------------------------------\u001b[0m",
      "\u001b[0;31mNameError\u001b[0m                                 Traceback (most recent call last)",
      "\u001b[0;32m<ipython-input-102-db1d5e460056>\u001b[0m in \u001b[0;36m<module>\u001b[0;34m()\u001b[0m\n\u001b[0;32m----> 1\u001b[0;31m trace1 = go.Scatter(x = list_classifiers, y = val_scores,\n\u001b[0m\u001b[1;32m      2\u001b[0m                    name=\"Validation\", text = list_classifiers)\n\u001b[1;32m      3\u001b[0m trace2 = go.Scatter(x = list_classifiers, y = test_scores,\n\u001b[1;32m      4\u001b[0m                    name=\"Submission\", text = list_classifiers)\n\u001b[1;32m      5\u001b[0m \u001b[0;34m\u001b[0m\u001b[0m\n",
      "\u001b[0;31mNameError\u001b[0m: name 'go' is not defined"
     ]
    }
   ],
   "source": [
    "trace1 = go.Scatter(x = list_classifiers, y = val_scores,\n",
    "                   name=\"Validation\", text = list_classifiers)\n",
    "trace2 = go.Scatter(x = list_classifiers, y = test_scores,\n",
    "                   name=\"Submission\", text = list_classifiers)\n",
    "\n",
    "data = [trace1, trace2]\n",
    "\n",
    "layout = dict(title = \"Validation and Submission Scores\", \n",
    "              xaxis=dict(ticklen=10, zeroline= False),\n",
    "              yaxis=dict(title = \"Accuracy\", side='left', ticklen=10,),                                  \n",
    "              legend=dict(orientation=\"v\", x=1.05, y=1.0),\n",
    "              autosize=False, width=750, height=500,\n",
    "              )\n",
    "\n",
    "fig = dict(data = data, layout = layout)\n",
    "iplot(fig)\n"
   ]
  },
  {
   "cell_type": "code",
   "execution_count": 103,
   "metadata": {},
   "outputs": [
    {
     "data": {
      "text/plain": [
       "<keras.optimizers.Adadelta at 0x7f0785a9bfd0>"
      ]
     },
     "execution_count": 103,
     "metadata": {},
     "output_type": "execute_result"
    }
   ],
   "source": [
    "model_cnn_2.optimizer"
   ]
  },
  {
   "cell_type": "code",
   "execution_count": 104,
   "metadata": {},
   "outputs": [
    {
     "data": {
      "text/plain": [
       "<keras.optimizers.RMSprop at 0x7f0764fffa90>"
      ]
     },
     "execution_count": 104,
     "metadata": {},
     "output_type": "execute_result"
    }
   ],
   "source": [
    "model_cnn_2_rmsprop = cnn_model_2(RMSprop(), categorical_crossentropy)\n",
    "model_cnn_2_rmsprop.optimizer"
   ]
  },
  {
   "cell_type": "code",
   "execution_count": 105,
   "metadata": {},
   "outputs": [],
   "source": [
    "model_cnn_2.fit(X, y, epochs=epochs, batch_size=batchsize, verbose=0)\n",
    "pred_test_cnn_2 = model_cnn_2.predict(X_test)\n",
    "pred_test_cnn_2 = np.argmax(pred_test_cnn_2,axis=1)\n",
    "result_cnn_2 = pd.DataFrame({'ImageId':sample_submission.ImageId, 'Label':pred_test_cnn_2})\n",
    "result_cnn_2.to_csv(\"subm_cnn_2_rmsprop.csv\",index=False)"
   ]
  },
  {
   "cell_type": "code",
   "execution_count": 106,
   "metadata": {},
   "outputs": [
    {
     "data": {
      "text/plain": [
       "<keras.optimizers.Adam at 0x7f0764fff7f0>"
      ]
     },
     "execution_count": 106,
     "metadata": {},
     "output_type": "execute_result"
    }
   ],
   "source": [
    "model_cnn_2_adam = cnn_model_2(Adam(), categorical_crossentropy)\n",
    "model_cnn_2_adam.optimizer"
   ]
  },
  {
   "cell_type": "code",
   "execution_count": 107,
   "metadata": {},
   "outputs": [],
   "source": [
    "model_cnn_2.fit(X, y, epochs=epochs, batch_size=batchsize, verbose=0)\n",
    "pred_test_cnn_2 = model_cnn_2.predict(X_test)\n",
    "pred_test_cnn_2 = np.argmax(pred_test_cnn_2,axis=1)\n",
    "result_cnn_2 = pd.DataFrame({'ImageId':sample_submission.ImageId, 'Label':pred_test_cnn_2})\n",
    "result_cnn_2.to_csv(\"subm_cnn_2_adam.csv\",index=False)"
   ]
  },
  {
   "cell_type": "code",
   "execution_count": 108,
   "metadata": {},
   "outputs": [],
   "source": [
    "arr_y_val = y_val.values\n",
    "false_cnn2 = pred_val_cnn2 != arr_y_val"
   ]
  },
  {
   "cell_type": "code",
   "execution_count": 109,
   "metadata": {},
   "outputs": [
    {
     "data": {
      "image/png": "[encoded data removed]",
      "text/plain": [
       "<Figure size 720x864 with 25 Axes>"
      ]
     },
     "metadata": {},
     "output_type": "display_data"
    }
   ],
   "source": [
    "fig, axs = plt.subplots(5, 5, sharex=True, sharey=True, figsize=(10,12))\n",
    "axs = axs.flatten()\n",
    "for i, n  in enumerate(false_cnn2[:25]):\n",
    "    im = X_val[false_cnn2][i,:,:,0]\n",
    "    axs[i].imshow(im, cmap=plt.get_cmap('gray'))\n",
    "    title = (\"predicted: \" + str(pred_val_cnn2[false_cnn2][i]) + \n",
    "            \"\\n\" + \"true: \" + str(arr_y_val[false_cnn2][i]) )\n",
    "    axs[i].set_title(title)\n",
    "plt.tight_layout()    "
   ]
  }
 ],
 "metadata": {
  "kernelspec": {
   "display_name": "Python 3",
   "language": "python",
   "name": "python3"
  },
  "language_info": {
   "codemirror_mode": {
    "name": "ipython",
    "version": 3
   },
   "file_extension": ".py",
   "mimetype": "text/x-python",
   "name": "python",
   "nbconvert_exporter": "python",
   "pygments_lexer": "ipython3",
   "version": "3.6.4"
  }
 },
 "nbformat": 4,
 "nbformat_minor": 1
}
